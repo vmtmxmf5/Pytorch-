{
 "cells": [
  {
   "cell_type": "code",
   "execution_count": 26,
   "id": "629eb1de",
   "metadata": {},
   "outputs": [],
   "source": [
    "from bs4 import BeautifulSoup\n",
    "import requests"
   ]
  },
  {
   "cell_type": "code",
   "execution_count": 36,
   "id": "6a7110a7",
   "metadata": {},
   "outputs": [
    {
     "data": {
      "text/plain": [
       "<a href=\"/2020/03/15/torch-pruning/\">\n",
       "<h2 class=\"post-title\">\n",
       "            torch.nn.utils.prune 모듈로 BERT 다이어트 시키기\n",
       "        </h2>\n",
       "<h3 class=\"post-subtitle\">\n",
       "            다이어트는 사람한테만 필요한게 아니잖아?\n",
       "        </h3>\n",
       "<div class=\"post-content-preview\">\n",
       "            \n",
       "                들어가며…\n",
       "\n",
       "\n",
       "\n",
       "최근 다이어트를 하고 있다. 컴퓨터 공부를 시작한 무렵부터 살이 급속도로 찌고 있었는데, 그동안 너무 안일하게 스스로를 방치한 것 같다. 이제와서야 스스로를 자책하며 간헐적 단식을 지키고 있는데 나만 다이어트를 하는 것은 조금 억울하다. 사람들이 말하길 BERT 가족들이 그렇게 다이어트를 할 필요가 있다던데 위 그림을 보니 이분들도 체...\n",
       "            \n",
       "        </div>\n",
       "</a>"
      ]
     },
     "execution_count": 36,
     "metadata": {},
     "output_type": "execute_result"
    }
   ],
   "source": [
    "## 예시\n",
    "url = 'https://huffon.github.io/'\n",
    "res = requests.get(url).content\n",
    "soup = BeautifulSoup(res, 'html')\n",
    "# soup.select_one('#tag-heading > h1').text == '404'\n",
    "soup.select('body > div.container > div > div.col-lg-8.col-lg-offset-1.col-md-8.col-md-offset-1.col-sm-12.col-xs-12.postlist-container > div > a')[-1]"
   ]
  },
  {
   "cell_type": "markdown",
   "id": "19e21b6a",
   "metadata": {},
   "source": [
    "## 끝 페이지까지 url 저장하기"
   ]
  },
  {
   "cell_type": "code",
   "execution_count": 44,
   "id": "1a90f244",
   "metadata": {},
   "outputs": [
    {
     "name": "stdout",
     "output_type": "stream",
     "text": [
      "포스팅 존재\n",
      "포스팅 존재\n",
      "포스팅 존재\n",
      "포스팅 존재\n"
     ]
    }
   ],
   "source": [
    "url_list = ['https://huffon.github.io/']\n",
    "i = 1\n",
    "stop = '포스팅 존재'\n",
    "while stop != '404':\n",
    "    url = url_list[0]\n",
    "    i += 1    \n",
    "    url_page = url + f'page{i}'\n",
    "    try:\n",
    "        res = requests.get(url_page).content\n",
    "        soup = BeautifulSoup(res, 'html')\n",
    "        stop = soup.select_one('#tag-heading > h1').text\n",
    "    except:\n",
    "        print(stop)\n",
    "        url_list.append(url_page)"
   ]
  },
  {
   "cell_type": "code",
   "execution_count": 30,
   "id": "6310f16a",
   "metadata": {},
   "outputs": [
    {
     "data": {
      "text/plain": [
       "['https://huffon.github.io/',\n",
       " 'https://huffon.github.io/page2',\n",
       " 'https://huffon.github.io/page3',\n",
       " 'https://huffon.github.io/page4',\n",
       " 'https://huffon.github.io/page5']"
      ]
     },
     "execution_count": 30,
     "metadata": {},
     "output_type": "execute_result"
    }
   ],
   "source": [
    "url_list"
   ]
  },
  {
   "cell_type": "markdown",
   "id": "f2d79128",
   "metadata": {},
   "source": [
    "## 전체 페이지 정리"
   ]
  },
  {
   "cell_type": "code",
   "execution_count": 39,
   "id": "af4e6e04",
   "metadata": {},
   "outputs": [],
   "source": [
    "all_posts = []\n",
    "for url in url_list:\n",
    "    res = requests.get(url).content\n",
    "    soup = BeautifulSoup(res, 'html')\n",
    "    data = soup.select('body > div.container > div > div.col-lg-8.col-lg-offset-1.col-md-8.col-md-offset-1.col-sm-12.col-xs-12.postlist-container > div > a')\n",
    "    for i in range(len(data)):\n",
    "        post = data[i].text\n",
    "        all_posts.append(str(post))"
   ]
  },
  {
   "cell_type": "code",
   "execution_count": 43,
   "id": "972b9743",
   "metadata": {},
   "outputs": [],
   "source": [
    "with open('/home/jaehoon/Downloads/볼만한 포스팅 모음.txt', 'w') as f:\n",
    "    f.writelines(all_posts)"
   ]
  },
  {
   "cell_type": "markdown",
   "id": "cc9f7225",
   "metadata": {},
   "source": [
    "### 결론\n",
    "볼만한 포스트는 앞부분에만 존재한다"
   ]
  },
  {
   "cell_type": "code",
   "execution_count": null,
   "id": "bca1872a",
   "metadata": {},
   "outputs": [],
   "source": []
  }
 ],
 "metadata": {
  "kernelspec": {
   "display_name": "Python 3",
   "language": "python",
   "name": "python3"
  },
  "language_info": {
   "codemirror_mode": {
    "name": "ipython",
    "version": 3
   },
   "file_extension": ".py",
   "mimetype": "text/x-python",
   "name": "python",
   "nbconvert_exporter": "python",
   "pygments_lexer": "ipython3",
   "version": "3.7.10"
  },
  "toc": {
   "base_numbering": 1,
   "nav_menu": {},
   "number_sections": true,
   "sideBar": true,
   "skip_h1_title": false,
   "title_cell": "Table of Contents",
   "title_sidebar": "Contents",
   "toc_cell": false,
   "toc_position": {},
   "toc_section_display": true,
   "toc_window_display": false
  },
  "varInspector": {
   "cols": {
    "lenName": 16,
    "lenType": 16,
    "lenVar": 40
   },
   "kernels_config": {
    "python": {
     "delete_cmd_postfix": "",
     "delete_cmd_prefix": "del ",
     "library": "var_list.py",
     "varRefreshCmd": "print(var_dic_list())"
    },
    "r": {
     "delete_cmd_postfix": ") ",
     "delete_cmd_prefix": "rm(",
     "library": "var_list.r",
     "varRefreshCmd": "cat(var_dic_list()) "
    }
   },
   "position": {
    "height": "144.857px",
    "left": "691.429px",
    "right": "20px",
    "top": "-0.999998px",
    "width": "350px"
   },
   "types_to_exclude": [
    "module",
    "function",
    "builtin_function_or_method",
    "instance",
    "_Feature"
   ],
   "window_display": true
  }
 },
 "nbformat": 4,
 "nbformat_minor": 5
}
