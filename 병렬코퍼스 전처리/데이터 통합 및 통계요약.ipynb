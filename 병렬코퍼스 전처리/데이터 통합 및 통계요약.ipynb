{
 "cells": [
  {
   "cell_type": "code",
   "execution_count": 3,
   "id": "d3725f76",
   "metadata": {},
   "outputs": [
    {
     "data": {
      "text/plain": [
       "['final_4.json', 'final_5.json']"
      ]
     },
     "execution_count": 3,
     "metadata": {},
     "output_type": "execute_result"
    }
   ],
   "source": [
    "import os\n",
    "os.listdir('C:/ff/test')"
   ]
  },
  {
   "cell_type": "code",
   "execution_count": 8,
   "id": "7d3ab6b6",
   "metadata": {},
   "outputs": [],
   "source": [
    "# 파일미리보기\n",
    "import json\n",
    "from collections import OrderedDict\n",
    "with open('C:/ff/test/final_4.json', 'r', encoding='utf-8') as f:\n",
    "    data = json.load(f, object_pairs_hook=OrderedDict)"
   ]
  },
  {
   "cell_type": "code",
   "execution_count": 24,
   "id": "6fad1b11",
   "metadata": {},
   "outputs": [],
   "source": [
    "# 실험 1\n",
    "with open('C:/ff/test/final_4.json', 'rb') as f:\n",
    "    temp = f.read()"
   ]
  },
  {
   "cell_type": "markdown",
   "id": "34f4eac1",
   "metadata": {},
   "source": [
    "### 데이터 ][ 제거"
   ]
  },
  {
   "cell_type": "code",
   "execution_count": 26,
   "id": "518ea756",
   "metadata": {},
   "outputs": [],
   "source": [
    "# 실험 2\n",
    "import io\n",
    "with open('C:/ff/test/final_6.json', 'rb+') as f:\n",
    "    f.seek(-1, io.SEEK_END)\n",
    "    f.write(b', ' + temp[1:])"
   ]
  },
  {
   "cell_type": "code",
   "execution_count": 33,
   "id": "9ee0043f",
   "metadata": {},
   "outputs": [],
   "source": [
    "# 검토\n",
    "with open('C:/ff/test/final_6.json', 'r', encoding='utf-8') as f:\n",
    "    res = json.load(f)"
   ]
  },
  {
   "cell_type": "code",
   "execution_count": 33,
   "id": "cdb6d491",
   "metadata": {},
   "outputs": [],
   "source": [
    "def MergeJson():\n",
    "    '''\n",
    "    final_file은 cleansing_json 중 첫 번째 청크 사본 경로입니다.\n",
    "    '''\n",
    "    import os\n",
    "    import io\n",
    "    cleansing_folder = 'C:/Users/CPB06GameN/글을쓰자/PyTorch-master/연습폴더/cleansing_json'\n",
    "    cleansed_file_names = os.listdir(cleansing_folder)\n",
    "    final_file = 'C:/ff/test/AIhub_total.json'\n",
    "    for file in range(1, len(cleansed_file_names)):\n",
    "        with open(cleansing_folder + '/final_{}.json'.format(file), 'rb') as t:\n",
    "            data = t.read()\n",
    "        with open(final_file, 'rb+') as f:\n",
    "            f.seek(-1, io.SEEK_END)\n",
    "            f.write(b', ' + data[1:])"
   ]
  },
  {
   "cell_type": "code",
   "execution_count": 34,
   "id": "0ecdfe34",
   "metadata": {},
   "outputs": [],
   "source": [
    "MergeJson()"
   ]
  },
  {
   "cell_type": "code",
   "execution_count": 61,
   "id": "88a9d856",
   "metadata": {},
   "outputs": [],
   "source": [
    "def Statistics(*args):\n",
    "    '''\n",
    "    데이터 언어 마다 {'raw_cnt':0, 'cleansing_cnt':0, 'line_cnt':0}를 만들어주세요\n",
    "    '''\n",
    "    import os\n",
    "    import json\n",
    "    cleansing_folder = 'C:/Users/CPB06GameN/글을쓰자/PyTorch-master/연습폴더/cleansing_json'\n",
    "    cleansed_file_names = os.listdir(cleansing_folder)\n",
    "    for file in range(len(cleansed_file_names)):\n",
    "        with open(cleansing_folder + '/final_{}.json'.format(file), 'r', encoding='utf-8') as f:\n",
    "            tot_data = json.load(f)\n",
    "            for data in tot_data:\n",
    "                src_raw_cnt = len(''.join(data['src_text_raw'].split(' ')))\n",
    "                src_cnt = len(''.join(data['src_text'].split(' ')))\n",
    "                tgt_raw_cnt = len(''.join(data['tgt_text_raw'].split(' ')))\n",
    "                tgt_cnt = len(''.join(data['tgt_text'].split(' ')))\n",
    "                line_cnt = len(data)\n",
    "\n",
    "                globals()[data['src_lang']]['raw_cnt'] += src_raw_cnt\n",
    "                globals()[data['src_lang']]['cleansing_cnt'] += src_cnt\n",
    "                globals()[data['tgt_lang']]['raw_cnt'] += tgt_raw_cnt\n",
    "                globals()[data['tgt_lang']]['cleansing_cnt'] += tgt_cnt\n",
    "                globals()[data['src_lang']]['line_cnt'] += line_cnt\n",
    "                globals()[data['tgt_lang']]['line_cnt'] += line_cnt\n",
    "    return ko, en, ja, zh"
   ]
  },
  {
   "cell_type": "code",
   "execution_count": 66,
   "id": "36cefd86",
   "metadata": {},
   "outputs": [
    {
     "data": {
      "text/plain": [
       "({'raw_cnt': 296203997, 'cleansing_cnt': 291753151, 'line_cnt': 48519944},\n",
       " {'raw_cnt': 472279048, 'cleansing_cnt': 467133600, 'line_cnt': 30879944},\n",
       " {'raw_cnt': 63365276, 'cleansing_cnt': 60522892, 'line_cnt': 8280000},\n",
       " {'raw_cnt': 54530158, 'cleansing_cnt': 53247527, 'line_cnt': 9360000})"
      ]
     },
     "execution_count": 66,
     "metadata": {},
     "output_type": "execute_result"
    }
   ],
   "source": [
    "ko, en, ja, zh = {'raw_cnt':0, 'cleansing_cnt':0, 'line_cnt':0}, {'raw_cnt':0, 'cleansing_cnt':0, 'line_cnt':0}, {'raw_cnt':0, 'cleansing_cnt':0, 'line_cnt':0}, {'raw_cnt':0, 'cleansing_cnt':0, 'line_cnt':0}\n",
    "Statistics(ko, en, ja, zh)"
   ]
  },
  {
   "cell_type": "code",
   "execution_count": 75,
   "id": "c0771ebe",
   "metadata": {
    "scrolled": true
   },
   "outputs": [],
   "source": [
    "final = [{'raw_cnt': 296203997, 'cleansing_cnt': 291753151, 'line_cnt': 48519944},\n",
    "         {'raw_cnt': 472279048, 'cleansing_cnt': 467133600, 'line_cnt': 30879944},\n",
    "         {'raw_cnt': 63365276, 'cleansing_cnt': 60522892, 'line_cnt': 8280000},\n",
    "         {'raw_cnt': 54530158, 'cleansing_cnt': 53247527, 'line_cnt': 9360000}]\n",
    "\n",
    "\n",
    "import pandas as pd\n",
    "\n",
    "df = pd.DataFrame(final, index=('ko', 'en', 'ja', 'zh'))\n",
    "df['raw_mean'] = df['raw_cnt'] / df['line_cnt']\n",
    "df['cleansing_mean'] = df['cleansing_cnt'] / df['line_cnt']"
   ]
  },
  {
   "cell_type": "markdown",
   "id": "3111fbec",
   "metadata": {},
   "source": [
    "### AIhub\n",
    "| 언어 | raw 음절 개수 | 전처리 음절 개수 | 문장 개수 | raw 음절 평균 | 전처리 음절 평균 |\n",
    "|--|--|--|--|--|--|\n",
    "|ko|\t296,203,997\t|291,753,151|\t48,519,944|6.10|6.01|\n",
    "|en|\t472,279,048\t|467,133,600|\t30,879,944|15.29|15.12|\n",
    "|ja|\t63,365,276\t|60,522,892|\t8,280,000|7.65|7.30|\n",
    "|zh|\t54,530,158\t|53,247,527|\t9,360,000|5.82|5.68|\n",
    "|합계| 886,378,479| 872,657,170| 97,039,888|"
   ]
  },
  {
   "cell_type": "code",
   "execution_count": 90,
   "id": "e100453c",
   "metadata": {},
   "outputs": [
    {
     "data": {
      "text/plain": [
       "(886378479.0, 872657170.0, 97039888.0)"
      ]
     },
     "execution_count": 90,
     "metadata": {},
     "output_type": "execute_result"
    }
   ],
   "source": [
    "df.sum(axis=0)[0], df.sum(axis=0)[1], df.sum(axis=0)[2]"
   ]
  },
  {
   "cell_type": "markdown",
   "id": "8936700f",
   "metadata": {},
   "source": [
    "### OPUS-100\n",
    "| 언어 | raw 음절 개수 | 전처리 음절 개수 | 문장 개수 | raw 음절 평균 | 전처리 음절 평균 |\n",
    "|--|--|--|--|--|--|\n",
    "|ar|26,695,983|23,611,647|6,856,728|3.89|3.44|\n",
    "|de|22,460,916|22,180446|3,711,600|6.05|5.97|\n",
    "|es|30,048,423|29,657,025|5,916,624|5.07|5.01|\n",
    "|fr|112,338,231|109719495|10,332,144|10.87|10.61|\n",
    "|hi|11,759,529|10,895,184|1,459,992|8.05|7.46|\n",
    "|id|33,698,700|32,973,309|7,093,584|4.75|4.64|\n",
    "|it|58,791,756|58,178,892|9,345,312|6.29|6.22|\n",
    "|ja|13,894,947|13,215,075|7,306,872|1.90|1.80|\n",
    "|ko|14,845,296|13,590,801|7,393,128|2.00|1.83|\n",
    "|pt|29,088,315|28,752,996|6,308,376|4.61|4.55|\n",
    "|ru|26,919,948|26,196,174|5,235,120|5.14|5.00|\n",
    "|vi|28,237,755|27,949,041|7,309,440|3.86|3.82|\n",
    "|zh|10,914,843|9,785,943|4,296,408|2.540|2.27|\n",
    "|en|467,757,102|462,247,809|82,565,328|5.66|5.59|\n",
    "|sum|887,451,744|868,953,837|165,130,656|"
   ]
  },
  {
   "cell_type": "markdown",
   "id": "f7ab2cc7",
   "metadata": {},
   "source": [
    "### TED2020\n",
    "| 언어 | raw 음절 개수 | 전처리 음절 개수 | 문장 개수 | raw 음절 평균 | 전처리 음절 평균 |\n",
    "|--|--|--|--|--|--|\n",
    "|fr\t|368,486,106\t|359,973,496\t|33,838,432\t|10.89|\t10.64|\n",
    "|es\t|345,214,451\t|340,609,822\t|34,043,984\t|10.14|\t10.00|\n",
    "|en\t|335,125,777\t|327,882,843\t|34,319,144\t|9.76|\t9.55|\n",
    "|it\t|327,441,898\t|322,953,632\t|31,783,008\t|10.30|\t10.16|\n",
    "|ru\t|324,544,667\t|312,176,010\t|32,959,880\t|9.85|\t9.47|\n",
    "|de\t|282,936,344\t|278,590,645\t|26,231,672\t|10.79|\t10.62|\n",
    "|pt\t|278,831,608\t|275,612,493\t|27,919,272\t|9.99|\t9.87|\n",
    "|ar\t|272,180,039\t|250,814,745\t|33,765,000\t|8.06|\t7.43|\n",
    "|vi\t|268,645,797\t|263,713,930\t|28,687,968\t|9.36|\t9.19|\n",
    "|id\t|161,975,306\t|158,789,318\t|15,200,160\t|10.66|\t10.45|\n",
    "|ko\t|159,079,510\t|156,533,588\t|33,421,064\t|4.76|\t4.68|\n",
    "|ja\t|146,279,142\t|142,695,674\t|31,430,576\t|4.65|\t4.54|\n",
    "|zh\t|124,503,922\t|120,840,999\t|33,570,816\t|3.71|\t3.60|\n",
    "|hi\t|36,996,112\t|36,352,034\t|4,333,712\t|8.54|\t8.39|\n",
    "|총합|3,432,240,679| 3,347,539,229| 401,504,688|||\n"
   ]
  },
  {
   "cell_type": "code",
   "execution_count": 92,
   "id": "eecab284",
   "metadata": {},
   "outputs": [
    {
     "data": {
      "text/html": [
       "<div>\n",
       "<style scoped>\n",
       "    .dataframe tbody tr th:only-of-type {\n",
       "        vertical-align: middle;\n",
       "    }\n",
       "\n",
       "    .dataframe tbody tr th {\n",
       "        vertical-align: top;\n",
       "    }\n",
       "\n",
       "    .dataframe thead th {\n",
       "        text-align: right;\n",
       "    }\n",
       "</style>\n",
       "<table border=\"1\" class=\"dataframe\">\n",
       "  <thead>\n",
       "    <tr style=\"text-align: right;\">\n",
       "      <th></th>\n",
       "      <th>raw_cnt</th>\n",
       "      <th>cleansing_cnt</th>\n",
       "      <th>line_cnt</th>\n",
       "      <th>raw_mean</th>\n",
       "      <th>clean_mean</th>\n",
       "    </tr>\n",
       "  </thead>\n",
       "  <tbody>\n",
       "    <tr>\n",
       "      <th>ar</th>\n",
       "      <td>272180039</td>\n",
       "      <td>250814745</td>\n",
       "      <td>33765000</td>\n",
       "      <td>8.061011</td>\n",
       "      <td>7.428247</td>\n",
       "    </tr>\n",
       "    <tr>\n",
       "      <th>de</th>\n",
       "      <td>282936344</td>\n",
       "      <td>278590645</td>\n",
       "      <td>26231672</td>\n",
       "      <td>10.786058</td>\n",
       "      <td>10.620392</td>\n",
       "    </tr>\n",
       "    <tr>\n",
       "      <th>en</th>\n",
       "      <td>335125777</td>\n",
       "      <td>327882843</td>\n",
       "      <td>34319144</td>\n",
       "      <td>9.764981</td>\n",
       "      <td>9.553934</td>\n",
       "    </tr>\n",
       "    <tr>\n",
       "      <th>es</th>\n",
       "      <td>345214451</td>\n",
       "      <td>340609822</td>\n",
       "      <td>34043984</td>\n",
       "      <td>10.140248</td>\n",
       "      <td>10.004993</td>\n",
       "    </tr>\n",
       "    <tr>\n",
       "      <th>fr</th>\n",
       "      <td>368486106</td>\n",
       "      <td>359973496</td>\n",
       "      <td>33838432</td>\n",
       "      <td>10.889574</td>\n",
       "      <td>10.638008</td>\n",
       "    </tr>\n",
       "    <tr>\n",
       "      <th>hi</th>\n",
       "      <td>36996112</td>\n",
       "      <td>36352034</td>\n",
       "      <td>4333712</td>\n",
       "      <td>8.536818</td>\n",
       "      <td>8.388198</td>\n",
       "    </tr>\n",
       "    <tr>\n",
       "      <th>id</th>\n",
       "      <td>161975306</td>\n",
       "      <td>158789318</td>\n",
       "      <td>15200160</td>\n",
       "      <td>10.656158</td>\n",
       "      <td>10.446556</td>\n",
       "    </tr>\n",
       "    <tr>\n",
       "      <th>it</th>\n",
       "      <td>327441898</td>\n",
       "      <td>322953632</td>\n",
       "      <td>31783008</td>\n",
       "      <td>10.302420</td>\n",
       "      <td>10.161204</td>\n",
       "    </tr>\n",
       "    <tr>\n",
       "      <th>ja</th>\n",
       "      <td>146279142</td>\n",
       "      <td>142695674</td>\n",
       "      <td>31430576</td>\n",
       "      <td>4.654039</td>\n",
       "      <td>4.540027</td>\n",
       "    </tr>\n",
       "    <tr>\n",
       "      <th>ko</th>\n",
       "      <td>159079510</td>\n",
       "      <td>156533588</td>\n",
       "      <td>33421064</td>\n",
       "      <td>4.759858</td>\n",
       "      <td>4.683681</td>\n",
       "    </tr>\n",
       "    <tr>\n",
       "      <th>pt</th>\n",
       "      <td>278831608</td>\n",
       "      <td>275612493</td>\n",
       "      <td>27919272</td>\n",
       "      <td>9.987066</td>\n",
       "      <td>9.871765</td>\n",
       "    </tr>\n",
       "    <tr>\n",
       "      <th>ru</th>\n",
       "      <td>324544667</td>\n",
       "      <td>312176010</td>\n",
       "      <td>32959880</td>\n",
       "      <td>9.846658</td>\n",
       "      <td>9.471394</td>\n",
       "    </tr>\n",
       "    <tr>\n",
       "      <th>vi</th>\n",
       "      <td>268645797</td>\n",
       "      <td>263713930</td>\n",
       "      <td>28687968</td>\n",
       "      <td>9.364407</td>\n",
       "      <td>9.192492</td>\n",
       "    </tr>\n",
       "    <tr>\n",
       "      <th>zh</th>\n",
       "      <td>124503922</td>\n",
       "      <td>120840999</td>\n",
       "      <td>33570816</td>\n",
       "      <td>3.708695</td>\n",
       "      <td>3.599585</td>\n",
       "    </tr>\n",
       "  </tbody>\n",
       "</table>\n",
       "</div>"
      ],
      "text/plain": [
       "      raw_cnt  cleansing_cnt  line_cnt   raw_mean  clean_mean\n",
       "ar  272180039      250814745  33765000   8.061011    7.428247\n",
       "de  282936344      278590645  26231672  10.786058   10.620392\n",
       "en  335125777      327882843  34319144   9.764981    9.553934\n",
       "es  345214451      340609822  34043984  10.140248   10.004993\n",
       "fr  368486106      359973496  33838432  10.889574   10.638008\n",
       "hi   36996112       36352034   4333712   8.536818    8.388198\n",
       "id  161975306      158789318  15200160  10.656158   10.446556\n",
       "it  327441898      322953632  31783008  10.302420   10.161204\n",
       "ja  146279142      142695674  31430576   4.654039    4.540027\n",
       "ko  159079510      156533588  33421064   4.759858    4.683681\n",
       "pt  278831608      275612493  27919272   9.987066    9.871765\n",
       "ru  324544667      312176010  32959880   9.846658    9.471394\n",
       "vi  268645797      263713930  28687968   9.364407    9.192492\n",
       "zh  124503922      120840999  33570816   3.708695    3.599585"
      ]
     },
     "execution_count": 92,
     "metadata": {},
     "output_type": "execute_result"
    }
   ],
   "source": [
    "data = [{'raw_cnt': 272180039, 'cleansing_cnt': 250814745, 'line_cnt': 33765000},\n",
    "     {'raw_cnt': 282936344, 'cleansing_cnt': 278590645, 'line_cnt': 26231672},\n",
    "     {'raw_cnt': 335125777, 'cleansing_cnt': 327882843, 'line_cnt': 34319144},\n",
    "     {'raw_cnt': 345214451, 'cleansing_cnt': 340609822, 'line_cnt': 34043984},\n",
    "     {'raw_cnt': 368486106, 'cleansing_cnt': 359973496, 'line_cnt': 33838432},\n",
    "     {'raw_cnt': 36996112, 'cleansing_cnt': 36352034, 'line_cnt': 4333712},\n",
    "     {'raw_cnt': 161975306, 'cleansing_cnt': 158789318, 'line_cnt': 15200160},\n",
    "     {'raw_cnt': 327441898, 'cleansing_cnt': 322953632, 'line_cnt': 31783008},\n",
    "     {'raw_cnt': 146279142, 'cleansing_cnt': 142695674, 'line_cnt': 31430576},\n",
    "     {'raw_cnt': 159079510, 'cleansing_cnt': 156533588, 'line_cnt': 33421064},\n",
    "     {'raw_cnt': 278831608, 'cleansing_cnt': 275612493, 'line_cnt': 27919272},\n",
    "     {'raw_cnt': 324544667, 'cleansing_cnt': 312176010, 'line_cnt': 32959880},\n",
    "     {'raw_cnt': 268645797, 'cleansing_cnt': 263713930, 'line_cnt': 28687968},\n",
    "     {'raw_cnt': 124503922, 'cleansing_cnt': 120840999, 'line_cnt': 33570816}]\n",
    "tmp = pd.DataFrame(data, index=('ar','de','en','es','fr','hi','id','it','ja','ko','pt','ru','vi','zh'))\n",
    "tmp['raw_mean'] = tmp['raw_cnt'] / tmp['line_cnt']\n",
    "tmp['clean_mean'] = tmp['cleansing_cnt'] / tmp['line_cnt']\n",
    "tmp\n",
    "#ar,de,en,es,fr,hi,id,it,ja,ko,pt,ru,vi,zh"
   ]
  },
  {
   "cell_type": "code",
   "execution_count": 96,
   "id": "bb4c3e62",
   "metadata": {},
   "outputs": [
    {
     "data": {
      "text/plain": [
       "(3432240679.0, 3347539229.0, 401504688.0)"
      ]
     },
     "execution_count": 96,
     "metadata": {},
     "output_type": "execute_result"
    }
   ],
   "source": [
    "tmp.sum(axis=0)[0], tmp.sum(axis=0)[1], tmp.sum(axis=0)[2]"
   ]
  },
  {
   "cell_type": "markdown",
   "id": "aa0e51db",
   "metadata": {},
   "source": [
    "### TATOEBA\n",
    "\n",
    "| 언어 | raw 음절 개수 | 전처리 음절 개수 | 문장 개수 | raw 음절 평균 | 전처리 음절 평균 |\n",
    "|--|--|--|--|--|--|\n",
    "|ar|\t877,187|\t803,037|\t324,192|\t2.71|\t2.48|\n",
    "|de|\t24,355,611|\t24,313,509|\t5,697,968|\t4.27|\t4.27|\n",
    "|en|\t63,309,491|\t63,269,321|\t18,650,968|\t3.39|\t3.39|\n",
    "|es|\t17,274,928|\t17,149,413|\t4,622,552|\t3.74|\t3.71|\n",
    "|fr|\t24,381,852|\t24,066,366|\t6,295,248|\t3.87|\t3.82|\n",
    "|hi|\t276,842|\t276,475|\t92,248|\t3.00|\t3.00|\n",
    "|id|\t492,391|\t491,228|\t127,000|\t3.88|\t3.87|\n",
    "|it|\t18,626,227|\t18,621,114|\t5,599,968|\t3.33|\t3.33|\n",
    "|ja|\t6,323,224|\t6,209,677|\t2,944,976|\t2.15|\t2.11|\n",
    "|ko|\t96,164|\t95,978|\t58,168|\t1.65|\t1.65|\n",
    "|pt|\t10,622,705|\t10,599,111|\t2,910,344|\t3.65|\t3.64|\n",
    "|ru|\t27,679,765|\t27,355,437|\t8,500,960|\t3.26|\t3.22|\n",
    "|vi|\t308,530|\t307,975|\t85,448|\t3.61|\t3.60|\n",
    "|zh|\t1,054,036|\t1,049,687|\t791,240|\t1.33|\t1.33|\n",
    "|총합| 195,678,953|194,608,328|56,701,280|||\n"
   ]
  },
  {
   "cell_type": "code",
   "execution_count": 102,
   "id": "4534494f",
   "metadata": {},
   "outputs": [
    {
     "name": "stdout",
     "output_type": "stream",
     "text": [
      "195678953.0 194608328.0 56701280.0\n"
     ]
    }
   ],
   "source": [
    "data = [{'raw_cnt': 877187, 'cleansing_cnt': 803037, 'line_cnt': 324192},\n",
    " {'raw_cnt': 24355611, 'cleansing_cnt': 24313509, 'line_cnt': 5697968},\n",
    " {'raw_cnt': 63309491, 'cleansing_cnt': 63269321, 'line_cnt': 18650968},\n",
    " {'raw_cnt': 17274928, 'cleansing_cnt': 17149413, 'line_cnt': 4622552},\n",
    " {'raw_cnt': 24381852, 'cleansing_cnt': 24066366, 'line_cnt': 6295248},\n",
    " {'raw_cnt': 276842, 'cleansing_cnt': 276475, 'line_cnt': 92248},\n",
    " {'raw_cnt': 492391, 'cleansing_cnt': 491228, 'line_cnt': 127000},\n",
    " {'raw_cnt': 18626227, 'cleansing_cnt': 18621114, 'line_cnt': 5599968},\n",
    " {'raw_cnt': 6323224, 'cleansing_cnt': 6209677, 'line_cnt': 2944976},\n",
    " {'raw_cnt': 96164, 'cleansing_cnt': 95978, 'line_cnt': 58168},\n",
    " {'raw_cnt': 10622705, 'cleansing_cnt': 10599111, 'line_cnt': 2910344},\n",
    " {'raw_cnt': 27679765, 'cleansing_cnt': 27355437, 'line_cnt': 8500960},\n",
    " {'raw_cnt': 308530, 'cleansing_cnt': 307975, 'line_cnt': 85448},\n",
    " {'raw_cnt': 1054036, 'cleansing_cnt': 1049687, 'line_cnt': 791240}]\n",
    "\n",
    "tmp = pd.DataFrame(data, index=('ar','de','en','es','fr','hi','id','it','ja','ko','pt','ru','vi','zh'))\n",
    "tmp['raw_mean'] = tmp['raw_cnt'] / tmp['line_cnt']\n",
    "tmp['clean_mean'] = tmp['cleansing_cnt'] / tmp['line_cnt']\n",
    "print(tmp.sum(axis=0)[0], tmp.sum(axis=0)[1], tmp.sum(axis=0)[2])\n",
    "tmp.raw_cnt = tmp.raw_cnt.apply(lambda x : \"{:,}\".format(x))\n",
    "tmp.cleansing_cnt = tmp.cleansing_cnt.apply(lambda x : \"{:,}\".format(x))"
   ]
  },
  {
   "cell_type": "code",
   "execution_count": 103,
   "id": "64b017b1",
   "metadata": {},
   "outputs": [],
   "source": [
    "tmp.line_cnt = tmp.line_cnt.apply(lambda x : \"{:,}\".format(x))\n",
    "tmp.raw_mean = tmp.raw_mean.apply(lambda x : \"{:.2f}\".format(x))\n",
    "tmp.clean_mean = tmp.clean_mean.apply(lambda x : \"{:.2f}\".format(x))"
   ]
  },
  {
   "cell_type": "code",
   "execution_count": 104,
   "id": "7b7aa9ab",
   "metadata": {},
   "outputs": [
    {
     "data": {
      "text/html": [
       "<div>\n",
       "<style scoped>\n",
       "    .dataframe tbody tr th:only-of-type {\n",
       "        vertical-align: middle;\n",
       "    }\n",
       "\n",
       "    .dataframe tbody tr th {\n",
       "        vertical-align: top;\n",
       "    }\n",
       "\n",
       "    .dataframe thead th {\n",
       "        text-align: right;\n",
       "    }\n",
       "</style>\n",
       "<table border=\"1\" class=\"dataframe\">\n",
       "  <thead>\n",
       "    <tr style=\"text-align: right;\">\n",
       "      <th></th>\n",
       "      <th>raw_cnt</th>\n",
       "      <th>cleansing_cnt</th>\n",
       "      <th>line_cnt</th>\n",
       "      <th>raw_mean</th>\n",
       "      <th>clean_mean</th>\n",
       "    </tr>\n",
       "  </thead>\n",
       "  <tbody>\n",
       "    <tr>\n",
       "      <th>ar</th>\n",
       "      <td>877,187</td>\n",
       "      <td>803,037</td>\n",
       "      <td>324,192</td>\n",
       "      <td>2.71</td>\n",
       "      <td>2.48</td>\n",
       "    </tr>\n",
       "    <tr>\n",
       "      <th>de</th>\n",
       "      <td>24,355,611</td>\n",
       "      <td>24,313,509</td>\n",
       "      <td>5,697,968</td>\n",
       "      <td>4.27</td>\n",
       "      <td>4.27</td>\n",
       "    </tr>\n",
       "    <tr>\n",
       "      <th>en</th>\n",
       "      <td>63,309,491</td>\n",
       "      <td>63,269,321</td>\n",
       "      <td>18,650,968</td>\n",
       "      <td>3.39</td>\n",
       "      <td>3.39</td>\n",
       "    </tr>\n",
       "    <tr>\n",
       "      <th>es</th>\n",
       "      <td>17,274,928</td>\n",
       "      <td>17,149,413</td>\n",
       "      <td>4,622,552</td>\n",
       "      <td>3.74</td>\n",
       "      <td>3.71</td>\n",
       "    </tr>\n",
       "    <tr>\n",
       "      <th>fr</th>\n",
       "      <td>24,381,852</td>\n",
       "      <td>24,066,366</td>\n",
       "      <td>6,295,248</td>\n",
       "      <td>3.87</td>\n",
       "      <td>3.82</td>\n",
       "    </tr>\n",
       "    <tr>\n",
       "      <th>hi</th>\n",
       "      <td>276,842</td>\n",
       "      <td>276,475</td>\n",
       "      <td>92,248</td>\n",
       "      <td>3.00</td>\n",
       "      <td>3.00</td>\n",
       "    </tr>\n",
       "    <tr>\n",
       "      <th>id</th>\n",
       "      <td>492,391</td>\n",
       "      <td>491,228</td>\n",
       "      <td>127,000</td>\n",
       "      <td>3.88</td>\n",
       "      <td>3.87</td>\n",
       "    </tr>\n",
       "    <tr>\n",
       "      <th>it</th>\n",
       "      <td>18,626,227</td>\n",
       "      <td>18,621,114</td>\n",
       "      <td>5,599,968</td>\n",
       "      <td>3.33</td>\n",
       "      <td>3.33</td>\n",
       "    </tr>\n",
       "    <tr>\n",
       "      <th>ja</th>\n",
       "      <td>6,323,224</td>\n",
       "      <td>6,209,677</td>\n",
       "      <td>2,944,976</td>\n",
       "      <td>2.15</td>\n",
       "      <td>2.11</td>\n",
       "    </tr>\n",
       "    <tr>\n",
       "      <th>ko</th>\n",
       "      <td>96,164</td>\n",
       "      <td>95,978</td>\n",
       "      <td>58,168</td>\n",
       "      <td>1.65</td>\n",
       "      <td>1.65</td>\n",
       "    </tr>\n",
       "    <tr>\n",
       "      <th>pt</th>\n",
       "      <td>10,622,705</td>\n",
       "      <td>10,599,111</td>\n",
       "      <td>2,910,344</td>\n",
       "      <td>3.65</td>\n",
       "      <td>3.64</td>\n",
       "    </tr>\n",
       "    <tr>\n",
       "      <th>ru</th>\n",
       "      <td>27,679,765</td>\n",
       "      <td>27,355,437</td>\n",
       "      <td>8,500,960</td>\n",
       "      <td>3.26</td>\n",
       "      <td>3.22</td>\n",
       "    </tr>\n",
       "    <tr>\n",
       "      <th>vi</th>\n",
       "      <td>308,530</td>\n",
       "      <td>307,975</td>\n",
       "      <td>85,448</td>\n",
       "      <td>3.61</td>\n",
       "      <td>3.60</td>\n",
       "    </tr>\n",
       "    <tr>\n",
       "      <th>zh</th>\n",
       "      <td>1,054,036</td>\n",
       "      <td>1,049,687</td>\n",
       "      <td>791,240</td>\n",
       "      <td>1.33</td>\n",
       "      <td>1.33</td>\n",
       "    </tr>\n",
       "  </tbody>\n",
       "</table>\n",
       "</div>"
      ],
      "text/plain": [
       "       raw_cnt cleansing_cnt    line_cnt raw_mean clean_mean\n",
       "ar     877,187       803,037     324,192     2.71       2.48\n",
       "de  24,355,611    24,313,509   5,697,968     4.27       4.27\n",
       "en  63,309,491    63,269,321  18,650,968     3.39       3.39\n",
       "es  17,274,928    17,149,413   4,622,552     3.74       3.71\n",
       "fr  24,381,852    24,066,366   6,295,248     3.87       3.82\n",
       "hi     276,842       276,475      92,248     3.00       3.00\n",
       "id     492,391       491,228     127,000     3.88       3.87\n",
       "it  18,626,227    18,621,114   5,599,968     3.33       3.33\n",
       "ja   6,323,224     6,209,677   2,944,976     2.15       2.11\n",
       "ko      96,164        95,978      58,168     1.65       1.65\n",
       "pt  10,622,705    10,599,111   2,910,344     3.65       3.64\n",
       "ru  27,679,765    27,355,437   8,500,960     3.26       3.22\n",
       "vi     308,530       307,975      85,448     3.61       3.60\n",
       "zh   1,054,036     1,049,687     791,240     1.33       1.33"
      ]
     },
     "execution_count": 104,
     "metadata": {},
     "output_type": "execute_result"
    }
   ],
   "source": [
    "tmp"
   ]
  },
  {
   "cell_type": "code",
   "execution_count": null,
   "id": "baddffb1",
   "metadata": {},
   "outputs": [],
   "source": []
  }
 ],
 "metadata": {
  "kernelspec": {
   "display_name": "Python 3",
   "language": "python",
   "name": "python3"
  },
  "language_info": {
   "codemirror_mode": {
    "name": "ipython",
    "version": 3
   },
   "file_extension": ".py",
   "mimetype": "text/x-python",
   "name": "python",
   "nbconvert_exporter": "python",
   "pygments_lexer": "ipython3",
   "version": "3.9.4"
  },
  "toc": {
   "base_numbering": 1,
   "nav_menu": {},
   "number_sections": true,
   "sideBar": true,
   "skip_h1_title": false,
   "title_cell": "Table of Contents",
   "title_sidebar": "Contents",
   "toc_cell": false,
   "toc_position": {},
   "toc_section_display": true,
   "toc_window_display": false
  },
  "varInspector": {
   "cols": {
    "lenName": 16,
    "lenType": 16,
    "lenVar": 40
   },
   "kernels_config": {
    "python": {
     "delete_cmd_postfix": "",
     "delete_cmd_prefix": "del ",
     "library": "var_list.py",
     "varRefreshCmd": "print(var_dic_list())"
    },
    "r": {
     "delete_cmd_postfix": ") ",
     "delete_cmd_prefix": "rm(",
     "library": "var_list.r",
     "varRefreshCmd": "cat(var_dic_list()) "
    }
   },
   "types_to_exclude": [
    "module",
    "function",
    "builtin_function_or_method",
    "instance",
    "_Feature"
   ],
   "window_display": true
  }
 },
 "nbformat": 4,
 "nbformat_minor": 5
}
