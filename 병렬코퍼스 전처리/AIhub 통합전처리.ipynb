{
 "cells": [
  {
   "cell_type": "markdown",
   "id": "73b720d7",
   "metadata": {},
   "source": [
    "| | AIhub | OPUS-100 | TED-2020 | 총합 |\n",
    "|--|--|--|--|--|\n",
    "| 데이터 개수* | 6m | 12.5m | 25m | 43.5m |\n",
    "| json chunk** 범위 | 0~606 | 607~1865 | 1866~4374 | 0~4374 |\n",
    "| 전처리 전 크기 | 2.5GB | 3.8GB | 8.2GB | 14.5GB |\n",
    "| 전처리 후 크기 | 4.7GB | 4.4GB | 16.1GB | 25.2GB |\n",
    "\n",
    "\\* m : million, 백만개  \n",
    "\\** chunk는 10,000개 데이터 단위로 수행했음"
   ]
  },
  {
   "cell_type": "markdown",
   "id": "74a21123",
   "metadata": {},
   "source": [
    "## 데이터 chunk화"
   ]
  },
  {
   "cell_type": "code",
   "execution_count": 1,
   "id": "e1cfa27a",
   "metadata": {
    "scrolled": true
   },
   "outputs": [],
   "source": [
    "import pandas as pd\n",
    "import json\n",
    "\n",
    "with open('final.json', encoding='utf-8') as f:\n",
    "    data = json.load(f)\n",
    "    chunkSize = 10000\n",
    "    for i in range(0, len(data), chunkSize):\n",
    "        with open('./final_chunk/' + 'final_' + str(i//chunkSize) + '.json', 'w') as outfile:\n",
    "            json.dump(data[i:i+chunkSize], outfile)"
   ]
  },
  {
   "cell_type": "code",
   "execution_count": null,
   "id": "b600aeae",
   "metadata": {},
   "outputs": [],
   "source": [
    "chunkSize = 10000\n",
    "for i in range(1866, len(data)+1, chunkSize):\n",
    "    with open('./final_chunk/' + 'final_' + str(i) + '.json', 'w', encoding='utf-8') as f:\n",
    "        json.dump(data[i:i+chunkSize], f, ensure_ascii=False)"
   ]
  },
  {
   "cell_type": "code",
   "execution_count": 344,
   "id": "2b344159",
   "metadata": {},
   "outputs": [],
   "source": [
    "import pandas as pd\n",
    "import json\n",
    "from collections import OrderedDict\n",
    "\n",
    "# 실험용\n",
    "# path = 'C:/Users/CPB06GameN/글을쓰자/PyTorch-master/연습폴더/final_chunk/'\n",
    "# with open(path+'final_300.json', 'r', encoding='utf-8') as f:\n",
    "#     data = json.load(f, object_pairs_hook=OrderedDict)"
   ]
  },
  {
   "cell_type": "markdown",
   "id": "e3263cfc",
   "metadata": {},
   "source": [
    "## url 전처리 코드"
   ]
  },
  {
   "cell_type": "code",
   "execution_count": 197,
   "id": "12899a4e",
   "metadata": {},
   "outputs": [
    {
     "data": {
      "text/plain": [
       "'얍 dfdfd'"
      ]
     },
     "execution_count": 197,
     "metadata": {},
     "output_type": "execute_result"
    }
   ],
   "source": [
    "import re\n",
    "# url 조정\n",
    "txt = 'https://www.gradient.descent.co.kr dcdcd dcd cdcd dfdfd dcdcd'\n",
    "txt = 'example.com/etcetc?query=aasd&dest=asds dfdfd'\n",
    "p = re.compile(r'(((http|https)\\:\\/\\/)?[a-zA-Z0-9\\.\\-_]+\\.([a-zA-Z]){2,6}([a-zA-Z0-9\\.\\&\\/\\?\\:@\\-_=#])*)')\n",
    "p.sub('얍', txt)"
   ]
  },
  {
   "cell_type": "markdown",
   "id": "e2c3d9f2",
   "metadata": {},
   "source": [
    "## 각 언어별 유니코드"
   ]
  },
  {
   "cell_type": "code",
   "execution_count": 12,
   "id": "fa534aba",
   "metadata": {},
   "outputs": [],
   "source": [
    "# 동북 아시아\n",
    "ko = '\\u3131-\\u3163|\\uac00-\\ud7af|\\u0041-\\u007a'    # ko + en\n",
    "zh = '\\u4e00-\\u62ff|\\u6300-\\u77ff|\\u7800-\\u8cff|\\u8d00-\\u9fff|\\u0041-\\u007a' # zh_cn + en\n",
    "ja = '\\u3041-\\u3096|\\u30a0-\\u30ff|\\u3400-\\u4db5|\\u4e00-\\u9fcb|\\uf900-\\ufa6a|\\u0041-\\u007a'  #ja + en\n",
    "\n",
    "# 러시아\n",
    "ru = '\\u0410-\\u044f'                 # ru\n",
    "\n",
    "# 유럽 / 미국 (vi, de, pt, fr, id, es, it, en)\n",
    "for country in 'vi,de,pt,fr,id,es,it,en'.split(','):\n",
    "    globals()[f'{country}'] = '\\u0041-\\u007a|\\u00c0-\\u0178|\\u1e00-\\u1eff|\\u0180-\\u024f|\\u1e00—\\u1eff|\\u0027'\n",
    "\n",
    "# 인도\n",
    "hi = '\\u0900-\\u097f|\\ua8e0-\\ua8ff' # hi (드 파나 가리어)\n",
    "\n",
    "# 아랍\n",
    "ar = '\\u0627-\\u064a'               # ar"
   ]
  },
  {
   "cell_type": "markdown",
   "id": "041c4127",
   "metadata": {},
   "source": [
    "## 전처리 함수"
   ]
  },
  {
   "cell_type": "code",
   "execution_count": 13,
   "id": "09befa25",
   "metadata": {},
   "outputs": [],
   "source": [
    "import re\n",
    "\n",
    "def clean_lng(sentence, unicode):\n",
    "    '''\n",
    "    문장 전처리 함수\n",
    "    문장과 해당 언어의 유니코드를 문자열로 넣으면 된다\n",
    "    '''\n",
    "    if type(sentence) == str:\n",
    "        p = re.compile(fr'''\n",
    "        (\n",
    "        ((http|https)\\:\\/\\/)?            # http가 존재하거나 존재하지 않거나\n",
    "        [a-zA-Z0-9\\.\\-_]+\\.              # 웹주소 .kr 이전 까지만 선택\n",
    "        ([a-zA-Z]){2,6}                  # .kr, .org 등을 모두 선택\n",
    "        ([a-zA-Z0-9\\.\\&\\/\\?\\:@\\-_=#])*   # 파라미터 선택 / 이메일 선택\n",
    "        )|\n",
    "        (\n",
    "        \\([^)]*\\)                        # () 안에 내용까지 선택 (반각)    \n",
    "        )|\n",
    "        (\n",
    "        \\<[^>]*\\>                        # <> 안에 내용까지 선택 (반각)\n",
    "        )|\n",
    "        (\n",
    "        \\[[^\\]]*\\]                       # [] 안에 내용까지 선택 (반각)\n",
    "        )|\n",
    "        (\n",
    "        --[^-]*--                        # -- 내용 -- 내용까지 선택 (반각)\n",
    "        )|\n",
    "        (\n",
    "        \\u00ab[^\\u00bb]*\\u00bb           # <> 안에 내용까지 선택 (반각)\n",
    "        )|\n",
    "        (\n",
    "        \\uff1c[^\\uff1e]*\\uff1e           # < > 안에 내용까지 선택 (전각)\n",
    "        )|\n",
    "        (\n",
    "        \\ufe64[^\\ufe65]*\\ufe65           # << >> 안에 내용까지 선택 (전각)\n",
    "        )|\n",
    "        (\n",
    "        \\uff08[^\\uff09]*\\uff09           # () 안에 내용까지 선택 (전각)    \n",
    "        )|\n",
    "        (\n",
    "        \\ufe59[^\\ufe5a]*\\ufe5a            # () 안에 내용까지 선택 (전각) \n",
    "        )|\n",
    "        (\n",
    "        \\uff3b[^\\uff3d]*\\uff3d           # [] 안에 내용까지 선택 (전각)\n",
    "        )|\n",
    "        (                                \n",
    "        [^ {unicode}|  # 사용할 언어\n",
    "\n",
    "        0-9|0-9 /|0-9/|0-9 :|0-9:|       # 숫자와 숫자 뒤 /와 :는 선택에서 제외\n",
    "\n",
    "        ·|.|,|!|?|\"|\"|'|⸢|⸥|。|          # 포함할 특수문자 (반각)\n",
    "                                         # 포함할 특수문자 (전각) :\n",
    "        \\uff0e|\\ufe52|\\uff0c|\\ufe51|     # 마침표, 콤마, 느낌표,\n",
    "        \\ufe50|\\ufe57|\\uff01|\\ufe15|     # 물음표, 큰따옴표,\n",
    "        \\uff1f|\\ufe56|\\ufe16|\\uff02|     # 어퍼스트로피, 꺽새 (전각)\n",
    "        \\uff07|\\ufe41|\\ufe42|\\ufe43|\\ufe44]\n",
    "        )                               \n",
    "        ''', re.VERBOSE)\n",
    "        result = p.sub('', sentence)\n",
    "    else:\n",
    "        result = ''\n",
    "    return result"
   ]
  },
  {
   "cell_type": "code",
   "execution_count": 14,
   "id": "e620700f",
   "metadata": {},
   "outputs": [],
   "source": [
    "def cleansing_data(chunk_data):\n",
    "    '''\n",
    "    chunk json 넣어주시면 전처리해서 새로운 OrderedDict를 반환합니다\n",
    "    '''\n",
    "    new = []\n",
    "    for line in chunk_data:\n",
    "#         if list(filter(None, '') ) == []:\n",
    "#             continue\n",
    "#         if re.search(r'[0-9]', line) is None:\n",
    "        new_line = OrderedDict()\n",
    "        src_unicode = globals()[line['src_lang']]\n",
    "        tgt_unicode = globals()[line['tgt_lang']]\n",
    "\n",
    "        new_line['src_lang'] = line['src_lang']\n",
    "        new_line['src_text_raw'] = line['src_text_raw']\n",
    "        new_line['src_text'] = clean_lng(line['src_text_raw'], src_unicode)\n",
    "\n",
    "        new_line['tgt_lang'] = line['tgt_lang']\n",
    "        new_line['tgt_text_raw'] = line['tgt_text_raw']\n",
    "        new_line['tgt_text'] = clean_lng(line['tgt_text_raw'], tgt_unicode)\n",
    "\n",
    "        new_line['origin'] = line['origin']\n",
    "        new_line['domain'] = line['domain']\n",
    "        new.append(new_line)\n",
    "    return new"
   ]
  },
  {
   "cell_type": "code",
   "execution_count": 15,
   "id": "665ac832",
   "metadata": {},
   "outputs": [],
   "source": [
    "import os\n",
    "import json\n",
    "from collections import OrderedDict\n",
    "\n",
    "path = 'C:/Users/CPB06GameN/글을쓰자/PyTorch-master/연습폴더/final_chunk'\n",
    "files = os.listdir(path)\n",
    "\n",
    "save_path = 'C:/Users/CPB06GameN/글을쓰자/PyTorch-master/연습폴더/cleansing_json/'\n",
    "\n",
    "for idx in range(len(files)):\n",
    "    with open(path + f'/final_{idx}.json', 'r', encoding='utf-8') as f:\n",
    "        data = json.load(f, object_pairs_hook=OrderedDict)\n",
    "    cleansing_json = cleansing_data(data)\n",
    "    with open(save_path + f'final_{idx}.json', 'w', encoding='utf-8') as f2:\n",
    "        json.dump(cleansing_json, f2, ensure_ascii=False, indent=4)"
   ]
  },
  {
   "cell_type": "code",
   "execution_count": 3,
   "id": "112e4b0e",
   "metadata": {},
   "outputs": [],
   "source": [
    "import json\n",
    "\n",
    "\n",
    "save_path = 'C:/Users/CPB06GameN/글을쓰자/PyTorch-master/연습폴더/cleansing_json/'\n",
    "\n",
    "with open(save_path+'final_52.json', 'r', encoding='utf-8') as f:\n",
    "    tmp = json.load(f)"
   ]
  },
  {
   "cell_type": "code",
   "execution_count": 10,
   "id": "e8301bd0",
   "metadata": {},
   "outputs": [
    {
     "data": {
      "text/plain": [
       "[2, 3, 4]"
      ]
     },
     "execution_count": 10,
     "metadata": {},
     "output_type": "execute_result"
    }
   ],
   "source": [
    "temp = []\n",
    "temp.extend([2,3,4])\n",
    "temp"
   ]
  },
  {
   "cell_type": "markdown",
   "id": "a8c88830",
   "metadata": {},
   "source": [
    "## 전처리 연습"
   ]
  },
  {
   "cell_type": "code",
   "execution_count": 313,
   "id": "1929bed7",
   "metadata": {},
   "outputs": [
    {
     "data": {
      "text/plain": [
       "' 수익성장의 2 / 3 는 2/3 개선 식품에서 발생,, 합니다 .'"
      ]
     },
     "execution_count": 313,
     "metadata": {},
     "output_type": "execute_result"
    }
   ],
   "source": [
    "p = re.compile(r'[^ \\u3131-\\u3163|\\uac00-\\ud7af]') # ko\n",
    "p = re.compile(r'[^ \\u0041-\\u007a]') # en\n",
    "p = re.compile(r'[^ \\u4e00-\\u62ff|\\u6300-\\u77ff|\\u7800-\\u8cff|\\u8d00-\\u9fff]') # zh_cn\n",
    "\n",
    "p = re.compile(r'[^ \\u0410-\\u044f]') # ru\n",
    "p = re.compile(r'[^ \\u3041-\\u3096|\\u30a0-\\u30ff|\\u3400-\\u4db5|\\u4e00-\\u9fcb|\\uf900-\\ufa6a]') #ja\n",
    "p = re.compile(r'[^ \\u0041-\\u007a|\\u00c0-\\u0178|\\u1e00-\\u1eff|\\u0180-\\u024f|\\u1e00—\\u1eff|\\u0027]') # vi, de, pt, fr, id, es, it, en\n",
    "p = re.compile(r'[^ \\u0900-\\u097f|\\ua8e0-\\ua8ff]') # hi (드 파나 가리어)\n",
    "p = re.compile(r'[^ \\u0627-\\u064a]') # ar\n",
    "\n",
    "\n",
    "test_ko1 = 'Pepsi 수익성장의 2 / 3 는 2/3 개선 식품에서 발생,, 합니다 .﹙ 아뵤﹚'\n",
    "test_ko2 = '( 음악 ) ♫ 내가 아침에 ♫ ♫ 일어났을 때 ♫ ♫ 커피를 따르고 ♫ ♫ 신문을 읽고 ♫ ♫ 그리곤 지막인 날이 될 것처럼 ♫ ( 박수 ) 자 그럼 .'\n",
    "\n",
    "test_en1 = '''♫  I 've later come to know that to be the collective socialization of men , better known as the \" man box . \"'''\n",
    "test_en2 = '( Audience : Man . ㅂ ♫ )'\n",
    "\n",
    "test_zh1 = '♫ （ 笑声 ） （ 掌声 ） 我给你讲个小故事来形容我现在是什么样的'\n",
    "test_zh2 = '♫ 那个男的接着说  ， “ 他已经非常努力了 ， 不是吗 ？ “ 的妻子Tipper 。'\n",
    "\n",
    "test_es1 = '♫  Estos son mis dos hijos : Kendall y Jay .'\n",
    "test_es2 = ':♫  \" ¿ Por qué lloras ?'\n",
    "\n",
    "test_fr1 = '♫  -- Rires -- Mettez-vous à ma place ! œ'\n",
    "test_fr2 = '♫  Chris Anderson : Marché conclu !'\n",
    "\n",
    "test_ru1 = '♫ Эта теории заключает в себе все элементы , обладание которыми , как мы часто полагаем , и означает быть \" настоящим мужчиной \" .'\n",
    "test_ru2 = '♫  ( аудитория : Мужчина . ) \" как мужчина . \"'\n",
    "\n",
    "test_id1 = '♫ ( Tertawa ) Cobalah kalian mengerti perasaan saya !'\n",
    "test_id2 = '♫  Dan dia bilang \" Benar , itu adalah mantan wakil presiden Al Gore dan istrinya Tipper . \"'\n",
    "\n",
    "test_ja1 = '♫  脳はご存じの通りニューロン （ 神経細胞 ） から 構成されています'\n",
    "test_ja2 = '♫ 「 すいません この道は何という名前でしょう ？ 」'\n",
    "\n",
    "test_vi1 = '♫ ( Cười ) Câu chuyện này là có thật -- đến từng chi tiết .'\n",
    "test_vi2 = '♫ Gọi cho Washington ! \"'\n",
    "\n",
    "test_de1 = '♫ Ich war bereit , ein Diplomat , Lehrer , Arzt zu werden -- alles war bereit .'\n",
    "test_de2 = '♫ ( Lachen ) \" Was ist los ?'\n",
    "\n",
    "test_it1 = '♫ Ne ho bisogno ! !'\n",
    "test_it2 = '''♫  E l' uomo disse : \" E ’ caduto parecchio in basso , vero ? \"'''\n",
    "\n",
    "test_hi1 = '♫ ( हँस ) स र दुन य के अवसर मेरे स मने थे ।'\n",
    "test_hi2 = '\" ♫ प ँच स ल तक कुँए ख देग ?'\n",
    "\n",
    "test_pt1 = '♫  — sem motorista ...'\n",
    "test_pt2 = '♫ ( Risos ) Estávamos num Ford Taurus alugado .'\n",
    "\n",
    "test_ar1 = '♫ ( فيديو ) سلمان خان : إذاً وتر المثلث سيكون 5'\n",
    "test_ar2 = '♫ ( ضحك ) ولنتوقف هنا لوهلة هذا الشخص قام بعملية التفاضل [△|㏊|ℓ|▶|µ|★|\\(|\\)|\\[|\\]|▽|♦|•]'\n",
    "\n",
    "\n",
    "\n",
    "\n",
    "lng = '\\u3131-\\u3163|\\uac00-\\ud7af'\n",
    "p = re.compile(fr'''\n",
    "(\n",
    "((http|https)\\:\\/\\/)?            # http가 존재하거나 존재하지 않거나\n",
    "[a-zA-Z0-9\\.\\-_]+\\.              # 웹주소 .kr 이전 까지만 선택\n",
    "([a-zA-Z]){2,6}                  # .kr, .org 등을 모두 선택\n",
    "([a-zA-Z0-9\\.\\&\\/\\?\\:@\\-_=#])*   # 파라미터 선택 / 이메일 선택\n",
    ")|\n",
    "(\n",
    "\\([^)]*\\)                        # () 안에 내용까지 선택 (반각)    \n",
    ")|\n",
    "(\n",
    "\\<[^>]*\\>                        # <> 안에 내용까지 선택 (반각)\n",
    ")|\n",
    "(\n",
    "\\[[^\\]]*\\]                       # [] 안에 내용까지 선택 (반각)\n",
    ")|\n",
    "(\n",
    "--[^-]*--                        # -- 내용 -- 내용까지 선택 (반각)\n",
    ")|\n",
    "(\n",
    "\\u00ab[^\\u00bb]*\\u00bb           # <> 안에 내용까지 선택 (반각)\n",
    ")|\n",
    "(\n",
    "\\uff1c[^\\uff1e]*\\uff1e           # < > 안에 내용까지 선택 (전각)\n",
    ")|\n",
    "(\n",
    "\\ufe64[^\\ufe65]*\\ufe65           # << >> 안에 내용까지 선택 (전각)\n",
    ")|\n",
    "(\n",
    "\\uff08[^\\uff09]*\\uff09           # () 안에 내용까지 선택 (전각)    \n",
    ")|\n",
    "(\n",
    "\\ufe59[^\\ufe5a]*\\ufe5a            # () 안에 내용까지 선택 (전각) \n",
    ")|\n",
    "(\n",
    "\\uff3b[^\\uff3d]*\\uff3d           # [] 안에 내용까지 선택 (전각)\n",
    ")|\n",
    "(                                \n",
    "[^ {lng}|  # 사용할 언어\n",
    "\n",
    "0-9|0-9 /|0-9/|0-9 :|0-9:|       # 숫자와 숫자 뒤 /와 :는 선택에서 제외\n",
    "\n",
    "·|.|,|!|?|\"|\"|'|⸢|⸥|             # 포함할 특수문자 (반각)\n",
    "                                 # 포함할 특수문자 (전각) :\n",
    "\\uff0e|\\ufe52|\\uff0c|\\ufe51|     # 마침표, 콤마, 느낌표,\n",
    "\\ufe50|\\ufe57|\\uff01|\\ufe15|     # 물음표, 큰따옴표,\n",
    "\\uff1f|\\ufe56|\\ufe16|\\uff02|     # 어퍼스트로피, 꺽새 (전각)\n",
    "\\uff07|\\ufe41|\\ufe42|\\ufe43|\\ufe44]\n",
    ")                               \n",
    "''', re.VERBOSE)\n",
    "\n",
    "p.sub('', test_ko1)"
   ]
  }
 ],
 "metadata": {
  "kernelspec": {
   "display_name": "Python 3",
   "language": "python",
   "name": "python3"
  },
  "language_info": {
   "codemirror_mode": {
    "name": "ipython",
    "version": 3
   },
   "file_extension": ".py",
   "mimetype": "text/x-python",
   "name": "python",
   "nbconvert_exporter": "python",
   "pygments_lexer": "ipython3",
   "version": "3.9.4"
  },
  "toc": {
   "base_numbering": 1,
   "nav_menu": {},
   "number_sections": true,
   "sideBar": true,
   "skip_h1_title": false,
   "title_cell": "Table of Contents",
   "title_sidebar": "Contents",
   "toc_cell": false,
   "toc_position": {},
   "toc_section_display": true,
   "toc_window_display": false
  },
  "varInspector": {
   "cols": {
    "lenName": 16,
    "lenType": 16,
    "lenVar": 40
   },
   "kernels_config": {
    "python": {
     "delete_cmd_postfix": "",
     "delete_cmd_prefix": "del ",
     "library": "var_list.py",
     "varRefreshCmd": "print(var_dic_list())"
    },
    "r": {
     "delete_cmd_postfix": ") ",
     "delete_cmd_prefix": "rm(",
     "library": "var_list.r",
     "varRefreshCmd": "cat(var_dic_list()) "
    }
   },
   "position": {
    "height": "144.83px",
    "left": "757.429px",
    "right": "20px",
    "top": "14px",
    "width": "350px"
   },
   "types_to_exclude": [
    "module",
    "function",
    "builtin_function_or_method",
    "instance",
    "_Feature"
   ],
   "window_display": true
  }
 },
 "nbformat": 4,
 "nbformat_minor": 5
}
