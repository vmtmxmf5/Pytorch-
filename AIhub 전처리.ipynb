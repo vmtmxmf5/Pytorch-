{
 "cells": [
  {
   "cell_type": "markdown",
   "id": "618e16d5",
   "metadata": {},
   "source": [
    "## 데이터 불러오기"
   ]
  },
  {
   "cell_type": "code",
   "execution_count": 29,
   "id": "45a16a46",
   "metadata": {},
   "outputs": [],
   "source": [
    "from tabulate import tabulate\n",
    "from tqdm.notebook import tqdm\n",
    "import pandas as pd\n",
    "import numpy as np\n",
    "import os"
   ]
  },
  {
   "cell_type": "code",
   "execution_count": 111,
   "id": "b2f79a78",
   "metadata": {},
   "outputs": [],
   "source": [
    "path_ko2en = 'C:/ff/AIhub/전문분야한영/Training/ko2en_training_csv'\n",
    "paht_ko2en_social = 'C:/ff/AIhub/한국어-영어 번역 말뭉치(사회과학)/Training/학습데이터'\n",
    "path_ko2en_xlsx = 'C:/ff/AIhub/한국어-영어 번역(병렬) 말뭉치'\n",
    "path_ko2ja = 'C:/ff/AIhub/한국어-일본어 번역 말뭉치/Training/[원천]ko2ja_culture_training_csv'\n",
    "path_ko2ch = 'C:/ff/AIhub/한국어-중국어 번역 말뭉치(사회과학)/Training/[원천]ko2zh_social_science_training_csv'\n",
    "\n",
    "paths = [path_ko2en, paht_ko2en_social, path_ko2en_xlsx, path_ko2ja, path_ko2ch]"
   ]
  },
  {
   "cell_type": "code",
   "execution_count": 112,
   "id": "293ac6b0",
   "metadata": {},
   "outputs": [
    {
     "data": {
      "application/vnd.jupyter.widget-view+json": {
       "model_id": "4fba2b281b3147e7ad2641df2d4b11ed",
       "version_major": 2,
       "version_minor": 0
      },
      "text/plain": [
       "0it [00:00, ?it/s]"
      ]
     },
     "metadata": {},
     "output_type": "display_data"
    },
    {
     "name": "stdout",
     "output_type": "stream",
     "text": [
      "--0730_social_train_set_895888.json 형식임--\n"
     ]
    },
    {
     "name": "stderr",
     "output_type": "stream",
     "text": [
      "c:\\users\\cpb06gamen\\appdata\\local\\programs\\python\\python39\\lib\\site-packages\\openpyxl\\styles\\stylesheet.py:221: UserWarning: Workbook contains no default style, apply openpyxl's default\n",
      "  warn(\"Workbook contains no default style, apply openpyxl's default\")\n",
      "c:\\users\\cpb06gamen\\appdata\\local\\programs\\python\\python39\\lib\\site-packages\\IPython\\core\\interactiveshell.py:3169: DtypeWarning: Columns (7) have mixed types.Specify dtype option on import or set low_memory=False.\n",
      "  has_raised = await self.run_ast_nodes(code_ast.body, cell_name,\n"
     ]
    }
   ],
   "source": [
    "df_lng = pd.DataFrame({'src_lng':[], 'tgt_lng':[]})\n",
    "df = pd.DataFrame({'src':[], 'tgt':[]})\n",
    "for i, path in tqdm(enumerate(paths)):\n",
    "    files = os.listdir(path)\n",
    "    for file in files:\n",
    "        save_path = os.path.join(path + '/' + file)\n",
    "        src_key = ['한국어', 'ko','원문', '한국어', '한국어']\n",
    "        tgt_key = ['영어', 'en', '번역문', '일본어', '중국어']\n",
    "        \n",
    "        \n",
    "        if file.find('csv') != -1:\n",
    "            tmp = pd.read_csv(save_path, encoding='utf-8')\n",
    "            idx = np.random.randint(0, len(tmp), 200)\n",
    "            \n",
    "            temp = tmp.loc[idx]\n",
    "            temp = temp.rename(columns={src_key[i]:'src', tgt_key[i]:'tgt'})\n",
    "            temp = temp[['src', 'tgt']].reset_index(drop=True)\n",
    "            \n",
    "            lan_tmp = pd.DataFrame({'src_lng':src_key[i], 'tgt_lng':tgt_key[i]}, index=np.arange(len(temp)))\n",
    "            df_lng = pd.concat([df_lng, lan_tmp], ignore_index=True)\n",
    "            df = pd.concat([df, temp])\n",
    "        else:\n",
    "            try:\n",
    "                tmp = pd.read_excel(save_path)\n",
    "                idx = np.random.randint(0, len(tmp), 200)\n",
    "                temp = tmp.loc[idx]\n",
    "                temp.rename(columns={src_key[i]:'src', tgt_key[i]:'tgt'}, inplace=True)\n",
    "                temp = temp[['src', 'tgt']].reset_index(drop=True)\n",
    "                \n",
    "                lan_tmp = pd.DataFrame({'src_lng':src_key[i], 'tgt_lng':tgt_key[i]}, index=np.arange(len(temp)))\n",
    "                df_lng = pd.concat([df_lng, lan_tmp], ignore_index=True)\n",
    "                df = pd.concat([df, temp])\n",
    "            except:\n",
    "                print(f'--{file} 형식임--')"
   ]
  },
  {
   "cell_type": "code",
   "execution_count": 116,
   "id": "b447dd92",
   "metadata": {},
   "outputs": [],
   "source": [
    "fin = pd.DataFrame(np.hstack((df, df_lng)))\n",
    "fin.columns = ['src', 'tgt', 'src_lng', 'tgt_lng']\n",
    "fin = fin[['src_lng', 'src', 'tgt', 'tgt_lng']]\n",
    "fin.rename(columns={'src_lng':'src_L', 'tgt_lng':'tgt_L'}, inplace=True)\n",
    "\n",
    "src_key = ['한국어', 'ko','원문', '한국어', '한국어']\n",
    "tgt_key = ['영어', 'en', '번역문', '일본어', '중국어']\n",
    "\n",
    "for i in range(5):\n",
    "    fin.loc[fin['src_L'] == src_key[i], 'src_L'] = 'ko'\n",
    "    if i <= 2:\n",
    "        fin.loc[fin['tgt_L'] == tgt_key[i], 'tgt_L'] = 'en'\n",
    "    elif i == 3:\n",
    "        fin.loc[fin['tgt_L'] == tgt_key[i], 'tgt_L'] = 'ja'\n",
    "    else:\n",
    "        fin.loc[fin['tgt_L'] == tgt_key[i], 'tgt_L'] = 'zh'"
   ]
  },
  {
   "cell_type": "code",
   "execution_count": 117,
   "id": "da24bdbb",
   "metadata": {},
   "outputs": [],
   "source": [
    "# fin.to_csv('fin.csv', encoding='utf-8')"
   ]
  },
  {
   "cell_type": "markdown",
   "id": "1fdb58c4",
   "metadata": {},
   "source": [
    "## 전처리"
   ]
  },
  {
   "cell_type": "code",
   "execution_count": 116,
   "id": "e90b705d",
   "metadata": {},
   "outputs": [],
   "source": [
    "from tabulate import tabulate\n",
    "from tqdm.notebook import tqdm\n",
    "import pandas as pd\n",
    "import numpy as np\n",
    "import os\n",
    "import re\n",
    "import collections\n",
    "fin = pd.read_csv('fin.csv', encoding='utf-8')"
   ]
  },
  {
   "cell_type": "code",
   "execution_count": 117,
   "id": "45e711eb",
   "metadata": {},
   "outputs": [
    {
     "data": {
      "text/plain": [
       "'아니 그게아니라    '"
      ]
     },
     "execution_count": 117,
     "metadata": {},
     "output_type": "execute_result"
    }
   ],
   "source": [
    "eg = '아니 그게아니라 <진짜로> (멈춰!) -- 실화냐구 -- [띠용]'\n",
    "\n",
    "# 소괄호 앞에는 \\ 붙여야 함\n",
    "# [^)]* 괄호 닫는 것을 제외하고 모든것\n",
    "p = re.compile(r'(\\([^)]*\\))|(\\<[^>]*\\>)|(--[^-]*--)|(\\[[^\\]]*\\])')\n",
    "p.sub('', eg)"
   ]
  },
  {
   "cell_type": "code",
   "execution_count": 118,
   "id": "388213cd",
   "metadata": {},
   "outputs": [
    {
     "data": {
      "text/plain": [
       "'selfconfirmed   menuadismiss 4/5  그렇단 말이쥬  아닌가욤  fire'"
      ]
     },
     "execution_count": 118,
     "metadata": {},
     "output_type": "execute_result"
    }
   ],
   "source": [
    "eg = 'self-confirmed, \\u200b  \\men\\\\ual/dismiss 4/5 / : 그렇;단 말이쥬 ; 아닌가욤 https://www.AIhub.com fire'\n",
    "\n",
    "p = re.compile(r'(-|:|;|,|\\\\)|([^0-9]/)|(http[^ ]*)|(\\u200b)')\n",
    "p.sub('', eg)"
   ]
  },
  {
   "cell_type": "code",
   "execution_count": 233,
   "id": "7ad09977",
   "metadata": {},
   "outputs": [
    {
     "data": {
      "text/plain": [
       "'%42  변경  변경%  변경%55'"
      ]
     },
     "execution_count": 233,
     "metadata": {},
     "output_type": "execute_result"
    }
   ],
   "source": [
    "# 부정형 후방탐색 ?<!  : 패턴과 일치하지 않으면 모두 repl (앞부터 검색)\n",
    "# 부정형 전방탐색 ?!   : 패턴과 일치하지 않으면 모두 repl (뒤부터 검색)\n",
    "# boundary \\b\n",
    "re.sub(r'\\b(?<!%)\\d+', ' 변경', '%42 544 11% 12%55') # boundary 중에서 % 뒤에 숫자가 아니면 repl한다\n",
    "re.sub(r'\\d+(?!%)\\b', ' 변경', '%42 544 아뇨 11% 12%55') # 숫자 중에서 뒤에 %가 없으면 repl 한다"
   ]
  },
  {
   "cell_type": "code",
   "execution_count": 260,
   "id": "f554ba47",
   "metadata": {},
   "outputs": [
    {
     "name": "stdout",
     "output_type": "stream",
     "text": [
      "cha오 cha cha호라 \n",
      " 오cha cha 호라cha \n",
      " 오호라cha 하하cha\n"
     ]
    }
   ],
   "source": [
    "tmp1 = re.sub(r'(?<!\\S)', 'cha', '오  호라') # ' '가 아닌 것은 수정하지 않는다 + 공백과 boundary 뒤에 repl 추가 + 역방향(<)\n",
    "tmp2 = re.sub(r'(?!\\S)', 'cha', '오  호라') # ' '가 아닌 것은 수정하지 않는다 + 공백과 boundary 뒤에 repl 추가\n",
    "tmp3 = re.sub(r'(?!\\S)', 'cha', '오호라 하하') # ' '가 아닌 것(글자숫자)은 수정하지 않는다 +  공백과 boundary 뒤에 repl 추가\n",
    "print(tmp1, '\\n', tmp2, '\\n', tmp3)"
   ]
  },
  {
   "cell_type": "markdown",
   "id": "bc45045f",
   "metadata": {},
   "source": [
    "### 정제"
   ]
  },
  {
   "cell_type": "code",
   "execution_count": 119,
   "id": "a27a894c",
   "metadata": {},
   "outputs": [
    {
     "name": "stdout",
     "output_type": "stream",
     "text": [
      "완료\n"
     ]
    }
   ],
   "source": [
    "def src_tgt_split(df):\n",
    "    '''\n",
    "    1. tgt category 별로 데이터 프레임 생성\n",
    "    > fin_en, fin_ja, fin_zh\n",
    "    \n",
    "    2. 한국어만 모은 Series 생성 (src)\n",
    "    > fin_src_en, fin_src_ja, fin_src_zh\n",
    "    \n",
    "    3. 외국어만 모은 Series 생성 (tgt)\n",
    "    > fin_tgt_en, fin_tgt_ja, fin_tgt_zh\n",
    "    '''\n",
    "    names = set(fin.tgt_L)\n",
    "    for name in names:\n",
    "        globals()['fin_{}'.format(name)] = fin.loc[fin['tgt_L']==name].copy()\n",
    "        globals()['fin_src_{}'.format(name)] = fin.loc[fin['tgt_L']==name]['src']\n",
    "        globals()['fin_tgt_{}'.format(name)] = fin.loc[fin['tgt_L']==name]['tgt']\n",
    "    return print('완료')\n",
    "\n",
    "src_tgt_split(fin)"
   ]
  },
  {
   "cell_type": "code",
   "execution_count": 120,
   "id": "a53145f4",
   "metadata": {},
   "outputs": [],
   "source": [
    "def clean_lng(sent):\n",
    "    '''\n",
    "    1. (), [], <>, -- -- 안에 내용 삭제\n",
    "    3. 숫자 뒤 /는 포함, 숫자 뒤 :는 포함\n",
    "    4. url 주소 삭제\n",
    "    5. -, :, ;, ',', \\, △, ㏊, ℓ, ▶, µ, ★, (, ), [, ], ▽, ♦,  •, \\u200b 삭제\n",
    "    6. ① ② ③ ④ ⑤ ⑥ ⑦ ⑧ ⑨ ⑩ 삭제\n",
    "    '''\n",
    "    if type(sent) == str:\n",
    "        p = re.compile(r'(\\([^)]*\\))|(\\<[^>]*\\>)|(\\[[^\\]]*\\])|(--[^-]*--)|([^0-9]/)|([^0-9]:)|(http[^ ]*)|(-|;|,|\\\\|△|㏊|ℓ|▶|µ|★|\\(|\\)|\\[|\\]|▽|♦|•|(\\u200b))|(①|②|③|④|⑤|⑥|⑦|⑧|⑨|⑩)')\n",
    "        res = p.sub('', sent)\n",
    "    else:\n",
    "        res = ''\n",
    "    return res"
   ]
  },
  {
   "cell_type": "code",
   "execution_count": 121,
   "id": "08d654fc",
   "metadata": {},
   "outputs": [
    {
     "data": {
      "text/plain": [
       "(1400, 1400)"
      ]
     },
     "execution_count": 121,
     "metadata": {},
     "output_type": "execute_result"
    }
   ],
   "source": [
    "# null list 여러개 생성\n",
    "names = set(fin.tgt_L)\n",
    "for name in names:\n",
    "    globals()['clean_src_{}'.format(name)], globals()['clean_tgt_{}'.format(name)] = [], []\n",
    "\n",
    "# 문장 정제 실행함수\n",
    "def clean_sent(src_data, tgt_data, clean_src, clean_tgt):\n",
    "    '''\n",
    "    clean_lng를 실행하여 clean_src와 clean_tgt에 저장\n",
    "    '''\n",
    "    for sent_src, sent_tgt in zip(src_data, tgt_data):\n",
    "        src = clean_lng(sent_src)\n",
    "        tgt = clean_lng(sent_tgt)\n",
    "        clean_src.append(src)\n",
    "        clean_tgt.append(tgt)\n",
    "    return len(clean_src), len(clean_tgt)\n",
    "\n",
    "clean_sent(fin_src_en, fin_tgt_en, clean_src_en, clean_tgt_en)\n",
    "clean_sent(fin_src_ja, fin_tgt_ja, clean_src_ja, clean_tgt_ja)\n",
    "clean_sent(fin_src_zh, fin_tgt_zh, clean_src_zh, clean_tgt_zh)"
   ]
  },
  {
   "cell_type": "markdown",
   "id": "ec147591",
   "metadata": {},
   "source": [
    "### Subword 분절 BPE\n",
    "\n",
    "- BPE reference  \n",
    "    1. Neural Machine Translation of Rare Words with Subword Units [Sennrich at el.2015]  \n",
    "    2. Google’s Neural Machine Translation System: Bridging the Gap between Human and Machine Translation [Wo at el.2016]  \n",
    "    3. https://rueki.tistory.com/13  \n",
    "    4. https://lovit.github.io/nlp/2018/04/02/wpm/  \n",
    "    5. https://an-seunghwan.github.io/nlp/Byte-Pair-Encoding-(2)/  "
   ]
  },
  {
   "cell_type": "code",
   "execution_count": 122,
   "id": "de208525",
   "metadata": {},
   "outputs": [],
   "source": [
    "def init_vocab(corpus):\n",
    "    '''\n",
    "    BPE용 초기 단어집합 구축\n",
    "    '''\n",
    "    subwords = []\n",
    "    for sent in corpus:\n",
    "        tmp = [' '.join(word) + ' </w>' for word in sent.split()]\n",
    "        subwords.extend(tmp)\n",
    "    vocab = collections.Counter(subwords)\n",
    "    return vocab"
   ]
  },
  {
   "cell_type": "code",
   "execution_count": 123,
   "id": "1582ecae",
   "metadata": {},
   "outputs": [],
   "source": [
    "init_src_en, init_tgt_en = init_vocab(clean_src_en), init_vocab(clean_tgt_en)\n",
    "init_src_ja, init_tgt_ja = init_vocab(clean_src_ja), init_vocab(clean_tgt_ja)\n",
    "init_src_zh, init_tgt_zh = init_vocab(clean_src_zh), init_vocab(clean_tgt_zh)"
   ]
  },
  {
   "cell_type": "code",
   "execution_count": 124,
   "id": "862ad7a4",
   "metadata": {},
   "outputs": [
    {
     "data": {
      "text/plain": [
       "Counter({'청 소 년 기 의 </w>': 1, '음 주 는 </w>': 1, '다 양 한 </w>': 57})"
      ]
     },
     "execution_count": 124,
     "metadata": {},
     "output_type": "execute_result"
    }
   ],
   "source": [
    "import itertools\n",
    "\n",
    "length = collections.Counter()\n",
    "length.update(dict(itertools.islice(init_src_en.items(), 3)))\n",
    "length"
   ]
  },
  {
   "cell_type": "code",
   "execution_count": 125,
   "id": "583900d8",
   "metadata": {},
   "outputs": [],
   "source": [
    "def vocab_segment(vocab):\n",
    "    '''\n",
    "    음절 단위로 분리, \n",
    "    '''\n",
    "    vocab_seg = set()\n",
    "    for word in vocab.keys():\n",
    "        symbol = word.split()\n",
    "        vocab_seg.update(symbol)\n",
    "    return list(vocab_seg)\n",
    "\n",
    "def init_pair_freq(vocab):\n",
    "    '''\n",
    "    각 byte별 pair 빈도수 계산\n",
    "    '''\n",
    "    pairs = collections.defaultdict(int)\n",
    "    for word, freq in vocab.items():\n",
    "        symbol = word.split()\n",
    "        \n",
    "        # </w> 개수 제외\n",
    "        for i in range(len(symbol)-1):\n",
    "            pairs[symbol[i], symbol[i+1]] += freq\n",
    "    return pairs"
   ]
  },
  {
   "cell_type": "code",
   "execution_count": 126,
   "id": "686b805d",
   "metadata": {},
   "outputs": [],
   "source": [
    "# 초기 음절 단어집합\n",
    "sub_src_en, sub_tgt_en = vocab_segment(init_src_en), vocab_segment(init_tgt_en)\n",
    "sub_src_ja, sub_tgt_ja = vocab_segment(init_src_ja), vocab_segment(init_tgt_ja)\n",
    "sub_src_zh, sub_tgt_zh = vocab_segment(init_src_zh), vocab_segment(init_tgt_zh)"
   ]
  },
  {
   "cell_type": "code",
   "execution_count": 127,
   "id": "d38a3958",
   "metadata": {
    "scrolled": false
   },
   "outputs": [
    {
     "name": "stdout",
     "output_type": "stream",
     "text": [
      "한-영 subword 단어집합 크기: 1326, 87\n",
      "한-일 subword 단어집합 크기: 1150, 2018\n",
      "한-중 subword 단어집합 크기: 1092, 2317\n"
     ]
    }
   ],
   "source": [
    "print('한-영 subword 단어집합 크기: {}, {}\\n한-일 subword 단어집합 크기: {}, {}\\n한-중 subword 단어집합 크기: {}, {}'.format(\n",
    "    len(sub_src_en), len(sub_tgt_en), len(sub_src_ja), len(sub_tgt_ja), len(sub_src_zh), len(sub_tgt_zh)\n",
    "))"
   ]
  },
  {
   "cell_type": "code",
   "execution_count": 146,
   "id": "96a4b4cc",
   "metadata": {},
   "outputs": [],
   "source": [
    "def merge_freq(pair, v_in):\n",
    "    '''\n",
    "    빈도수 기준으로 기존에 vocab update\n",
    "    '''\n",
    "    v_out = {}\n",
    "    bigram = re.escape(' '.join(pair)) #특수문자들을 출력한다\n",
    "    \n",
    "    # bigram 앞뒤를 repl한다\n",
    "    h = re.compile(r'(?<!\\S)' + bigram + r'(?!\\S)')\n",
    "    for word in v_in:\n",
    "        # word가 '주 식 은 </w>'라면 pair가 '주식'일 때 '주식 은 </w>'으로 변한다\n",
    "        w_out = h.sub(repl=''.join(pair), string=word)\n",
    "        v_out[w_out] = v_in[word]\n",
    "    return v_out\n",
    "\n",
    "def merge_update(init_subword_set, max_merge_freq=2000):\n",
    "    '''\n",
    "    BPE 실행 함수\n",
    "    '''\n",
    "    for _ in tqdm(range(max_merge_freq)):\n",
    "        pairs = init_pair_freq(init_subword_set)\n",
    "        if len(pairs) == 0:\n",
    "            break\n",
    "        best = max(pairs, key=pairs.get) # 가장 높은 value의 key값을 반환\n",
    "        init_subword_set = merge_freq(best, init_subword_set)\n",
    "    return init_subword_set"
   ]
  },
  {
   "cell_type": "code",
   "execution_count": 142,
   "id": "af2cc5c7",
   "metadata": {},
   "outputs": [
    {
     "data": {
      "application/vnd.jupyter.widget-view+json": {
       "model_id": "be63559f2f604d8690f0afedc9db091b",
       "version_major": 2,
       "version_minor": 0
      },
      "text/plain": [
       "  0%|          | 0/10000 [00:00<?, ?it/s]"
      ]
     },
     "metadata": {},
     "output_type": "display_data"
    }
   ],
   "source": [
    "max_merge_freq = 10000\n",
    "\n",
    "for _ in tqdm(range(max_merge_freq)):\n",
    "    pairs = init_pair_freq(init_src_en)\n",
    "    if len(pairs) == 0:\n",
    "        break\n",
    "    best = max(pairs, key=pairs.get) # 가장 높은 value의 key값을 반환\n",
    "    init_src_en = merge_freq(best, init_src_en)"
   ]
  },
  {
   "cell_type": "code",
   "execution_count": 292,
   "id": "cc004a64",
   "metadata": {
    "scrolled": true
   },
   "outputs": [
    {
     "data": {
      "application/vnd.jupyter.widget-view+json": {
       "model_id": "a5263e55c9394e4997acbf1eb3312802",
       "version_major": 2,
       "version_minor": 0
      },
      "text/plain": [
       "  0%|          | 0/2000 [00:00<?, ?it/s]"
      ]
     },
     "metadata": {},
     "output_type": "display_data"
    },
    {
     "data": {
      "application/vnd.jupyter.widget-view+json": {
       "model_id": "eb0a57a6b0ce45d19c9b89188446c6f6",
       "version_major": 2,
       "version_minor": 0
      },
      "text/plain": [
       "  0%|          | 0/2000 [00:00<?, ?it/s]"
      ]
     },
     "metadata": {},
     "output_type": "display_data"
    },
    {
     "data": {
      "application/vnd.jupyter.widget-view+json": {
       "model_id": "0f7fc450c3c5459b9d0306b9efa3d11a",
       "version_major": 2,
       "version_minor": 0
      },
      "text/plain": [
       "  0%|          | 0/2000 [00:00<?, ?it/s]"
      ]
     },
     "metadata": {},
     "output_type": "display_data"
    },
    {
     "data": {
      "application/vnd.jupyter.widget-view+json": {
       "model_id": "d28424f55bf7420488a251ca206402a9",
       "version_major": 2,
       "version_minor": 0
      },
      "text/plain": [
       "  0%|          | 0/2000 [00:00<?, ?it/s]"
      ]
     },
     "metadata": {},
     "output_type": "display_data"
    },
    {
     "data": {
      "application/vnd.jupyter.widget-view+json": {
       "model_id": "cdc2c7bedc6b41ff91dd35b6073ca0a1",
       "version_major": 2,
       "version_minor": 0
      },
      "text/plain": [
       "  0%|          | 0/2000 [00:00<?, ?it/s]"
      ]
     },
     "metadata": {},
     "output_type": "display_data"
    },
    {
     "data": {
      "application/vnd.jupyter.widget-view+json": {
       "model_id": "d76b3d1bd05540428e97a9fcbebeab6c",
       "version_major": 2,
       "version_minor": 0
      },
      "text/plain": [
       "  0%|          | 0/2000 [00:00<?, ?it/s]"
      ]
     },
     "metadata": {},
     "output_type": "display_data"
    }
   ],
   "source": [
    "merge_src_en, merge_tgt_en = merge_update(init_src_en), merge_update(init_tgt_en)\n",
    "merge_src_ja, merge_tgt_ja = merge_update(init_src_ja), merge_update(init_tgt_ja)\n",
    "merge_src_zh, merge_tgt_zh = merge_update(init_src_zh), merge_update(init_tgt_zh)"
   ]
  },
  {
   "cell_type": "code",
   "execution_count": 295,
   "id": "039d64dc",
   "metadata": {},
   "outputs": [],
   "source": [
    "vocab_src_en, vocab_tgt_en = vocab_segment(merge_src_en), vocab_segment(merge_tgt_en)\n",
    "vocab_src_ja, vocab_tgt_ja = vocab_segment(merge_src_ja), vocab_segment(merge_tgt_ja)\n",
    "vocab_src_zh, vocab_tgt_zh = vocab_segment(merge_src_zh), vocab_segment(merge_tgt_zh)"
   ]
  },
  {
   "cell_type": "markdown",
   "id": "3d5a2d6c",
   "metadata": {},
   "source": [
    "## Padding"
   ]
  },
  {
   "cell_type": "code",
   "execution_count": null,
   "id": "c7d503ab",
   "metadata": {},
   "outputs": [],
   "source": []
  }
 ],
 "metadata": {
  "kernelspec": {
   "display_name": "Python 3",
   "language": "python",
   "name": "python3"
  },
  "language_info": {
   "codemirror_mode": {
    "name": "ipython",
    "version": 3
   },
   "file_extension": ".py",
   "mimetype": "text/x-python",
   "name": "python",
   "nbconvert_exporter": "python",
   "pygments_lexer": "ipython3",
   "version": "3.9.4"
  },
  "toc": {
   "base_numbering": 1,
   "nav_menu": {},
   "number_sections": true,
   "sideBar": true,
   "skip_h1_title": false,
   "title_cell": "Table of Contents",
   "title_sidebar": "Contents",
   "toc_cell": false,
   "toc_position": {},
   "toc_section_display": true,
   "toc_window_display": false
  },
  "varInspector": {
   "cols": {
    "lenName": 16,
    "lenType": 16,
    "lenVar": 40
   },
   "kernels_config": {
    "python": {
     "delete_cmd_postfix": "",
     "delete_cmd_prefix": "del ",
     "library": "var_list.py",
     "varRefreshCmd": "print(var_dic_list())"
    },
    "r": {
     "delete_cmd_postfix": ") ",
     "delete_cmd_prefix": "rm(",
     "library": "var_list.r",
     "varRefreshCmd": "cat(var_dic_list()) "
    }
   },
   "position": {
    "height": "144.857px",
    "left": "664.429px",
    "right": "20px",
    "top": "-28px",
    "width": "350px"
   },
   "types_to_exclude": [
    "module",
    "function",
    "builtin_function_or_method",
    "instance",
    "_Feature"
   ],
   "window_display": true
  }
 },
 "nbformat": 4,
 "nbformat_minor": 5
}
