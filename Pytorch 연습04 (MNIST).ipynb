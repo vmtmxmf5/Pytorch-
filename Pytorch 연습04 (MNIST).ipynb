{
 "cells": [
  {
   "cell_type": "markdown",
   "id": "df982ef6",
   "metadata": {},
   "source": [
    "# 목차\n",
    "\n",
    "```ruby\n",
    "1. DataLoader shape 구하기\n",
    "2. DataLoader flatten 하기\n",
    "3. torchvision.datasets으로 .train_data 확인하기\n",
    "\n",
    "4. avg_cost 구하기\n",
    "5. with torch.no_grad() 구현하기\n",
    "    - .argmax == y (acc 구하기)\n",
    "    - 1개만 랜덤으로 뽑아서 시각화하기\n",
    "```\n",
    "\n",
    "\n",
    "1.\n",
    "```sage\n",
    "for x, y in data_loader:\n",
    "    print(x.shape, y.shape)\n",
    "```\n",
    "\n",
    "2.\n",
    "```sage\n",
    "# 1번 방법\n",
    "torch.flatten(x[0], start_dim=2) # 배치 제외 평탄화\n",
    "\n",
    "# 2번 방법\n",
    "torch.flatten(mnist_train.train_data, start_dim=1) # 배치 제외 평탄화\n",
    "\n",
    "# 3번 방법\n",
    "mnist_train.view(-1, 28 * 28) # 배치 제외 평탄화\n",
    "```\n",
    "\n",
    "3.\n",
    "```sage\n",
    "mnist_train = torchvision.datasets.MNIST(root= , train=, transform=, download=)\n",
    "mnist_train.train_data // train_labels\n",
    "```\n",
    "\n",
    "4.\n",
    "```sage\n",
    "for epoch in range():\n",
    "    avg_cost = 0\n",
    "    tot_batch = len(data_loader)\n",
    "    \n",
    "    for X, Y in data_loader:\n",
    "        \n",
    "        avg_cost += cost / tot_batch\n",
    "```\n",
    "\n",
    "5 - (1).\n",
    "```sage\n",
    "with torch.no_grad():\n",
    "    \n",
    "    acc = (torch.argmax(pred, 1) == y_test).float().mean()\n",
    "```\n",
    "\n",
    "5 - (2).\n",
    "```sage\n",
    "with torch.no_grad()\n",
    "    \n",
    "    # test시에는 batch가 필요없으므로\n",
    "    r = random.randint(0, len(mnist_test) - 1)\n",
    "    X_ran = X_test[r]\n",
    "    y_ran = y_test[r]\n",
    "```"
   ]
  },
  {
   "cell_type": "code",
   "execution_count": 7,
   "id": "fe6fb9b6",
   "metadata": {},
   "outputs": [],
   "source": [
    "import torch\n",
    "import torch.nn as nn\n",
    "import torch.nn.functional as F\n",
    "import random\n",
    "import torchvision"
   ]
  },
  {
   "cell_type": "code",
   "execution_count": 6,
   "id": "002ecd44",
   "metadata": {},
   "outputs": [],
   "source": [
    "device = torch.device('cuda' if torch.cuda.is_available() else 'cpu')\n",
    "\n",
    "random.seed(42)\n",
    "torch.manual_seed(42)\n",
    "if device == 'cuda':\n",
    "    torch.cuda.manual_seed_all(42)"
   ]
  },
  {
   "cell_type": "code",
   "execution_count": 11,
   "id": "d4254dd5",
   "metadata": {},
   "outputs": [],
   "source": [
    "mnist_train = torchvision.datasets.MNIST(root='MNIST_data/',\n",
    "                                        train=True,\n",
    "                                        transform=torchvision.transforms.ToTensor(),\n",
    "                                        download=True)\n",
    "mnist_test = torchvision.datasets.MNIST(root='MNIST_data/',\n",
    "                                       train=False,\n",
    "                                       transform=torchvision.transforms.ToTensor(),\n",
    "                                       download=True)\n",
    "\n",
    "data_loader = torch.utils.data.DataLoader(dataset=mnist_train,\n",
    "                                         batch_size=100,\n",
    "                                         shuffle=True,\n",
    "                                         drop_last=True)"
   ]
  },
  {
   "cell_type": "code",
   "execution_count": 84,
   "id": "15e87d9d",
   "metadata": {},
   "outputs": [
    {
     "name": "stderr",
     "output_type": "stream",
     "text": [
      "/home/jaehoon/anaconda3/envs/torch_env/lib/python3.7/site-packages/torchvision/datasets/mnist.py:58: UserWarning: test_data has been renamed data\n",
      "  warnings.warn(\"test_data has been renamed data\")\n"
     ]
    },
    {
     "data": {
      "text/plain": [
       "(torch.Size([60000, 28, 28]), torch.Size([60000]), torch.Size([10000, 28, 28]))"
      ]
     },
     "execution_count": 84,
     "metadata": {},
     "output_type": "execute_result"
    }
   ],
   "source": [
    "mnist_train.train_data.shape, mnist_train.train_labels.shape, mnist_test.test_data.shape"
   ]
  },
  {
   "cell_type": "code",
   "execution_count": 35,
   "id": "2bf08ee6",
   "metadata": {
    "scrolled": true
   },
   "outputs": [
    {
     "name": "stdout",
     "output_type": "stream",
     "text": [
      "torch.Size([100, 1, 28, 28]) torch.Size([100])\n"
     ]
    }
   ],
   "source": [
    "for x, y in data_loader:\n",
    "    print(x.shape, y.shape)\n",
    "    break"
   ]
  },
  {
   "cell_type": "code",
   "execution_count": 74,
   "id": "2937c1ac",
   "metadata": {},
   "outputs": [],
   "source": [
    "# DataLoader shape 구하기, Class 개수 구하기\n",
    "linear = nn.Linear(torch.flatten(x[0]).shape[0], len(y.unique())).to(device)\n",
    "optm = torch.optim.SGD(linear.parameters(), lr=1e-3)\n",
    "loss = nn.CrossEntropyLoss().to(device)"
   ]
  },
  {
   "cell_type": "code",
   "execution_count": 76,
   "id": "ac1f7f00",
   "metadata": {},
   "outputs": [
    {
     "name": "stdout",
     "output_type": "stream",
     "text": [
      "epoch :  1 avg_cost 0.8675121665000916\n",
      "epoch :  2 avg_cost 0.8185426592826843\n",
      "epoch :  3 avg_cost 0.7785223126411438\n",
      "epoch :  4 avg_cost 0.7451493740081787\n",
      "epoch :  5 avg_cost 0.7168310880661011\n",
      "epoch :  6 avg_cost 0.6924827694892883\n",
      "epoch :  7 avg_cost 0.671276330947876\n",
      "epoch :  8 avg_cost 0.6526309847831726\n",
      "epoch :  9 avg_cost 0.63608717918396\n",
      "epoch :  10 avg_cost 0.6212705969810486\n",
      "epoch :  11 avg_cost 0.6079385280609131\n",
      "epoch :  12 avg_cost 0.5958525538444519\n",
      "epoch :  13 avg_cost 0.5848321914672852\n",
      "epoch :  14 avg_cost 0.5747438073158264\n",
      "epoch :  15 avg_cost 0.5654541254043579\n"
     ]
    }
   ],
   "source": [
    "for epoch in range(15):\n",
    "    avg_cost = 0\n",
    "    tot_batch = len(data_loader)\n",
    "    \n",
    "    for X, Y in data_loader:\n",
    "        X = torch.flatten(X, start_dim=1).to(device)\n",
    "        Y = Y.to(device)\n",
    "        \n",
    "        optm.zero_grad()\n",
    "        z = linear(X)\n",
    "        cost = loss(z, Y)\n",
    "        cost.backward()\n",
    "        optm.step()\n",
    "        \n",
    "        avg_cost += cost / tot_batch\n",
    "        \n",
    "    print('epoch : ', epoch+1, 'avg_cost', avg_cost.item())"
   ]
  },
  {
   "cell_type": "code",
   "execution_count": 98,
   "id": "16e9ef54",
   "metadata": {},
   "outputs": [
    {
     "name": "stdout",
     "output_type": "stream",
     "text": [
      "0.8722999691963196\n"
     ]
    }
   ],
   "source": [
    "# test\n",
    "with torch.no_grad():\n",
    "    X_test = torch.flatten(mnist_test.test_data, start_dim=1).float().to(device)\n",
    "    y_test = mnist_test.test_labels.to(device)\n",
    "    \n",
    "    pred = linear(X_test)\n",
    "    corr_pred = torch.argmax(pred, 1) == y_test\n",
    "    acc = corr_pred.float().mean()\n",
    "    \n",
    "    print(acc.item())"
   ]
  },
  {
   "cell_type": "code",
   "execution_count": 109,
   "id": "060fe524",
   "metadata": {},
   "outputs": [
    {
     "name": "stdout",
     "output_type": "stream",
     "text": [
      "label :  8\n",
      "pred :  8\n"
     ]
    },
    {
     "data": {
      "image/png": "[encoded data removed]",
      "text/plain": [
       "<Figure size 432x288 with 1 Axes>"
      ]
     },
     "metadata": {
      "needs_background": "light"
     },
     "output_type": "display_data"
    }
   ],
   "source": [
    "import matplotlib.pyplot as plt\n",
    "\n",
    "with torch.no_grad():\n",
    "    X_test = torch.flatten(mnist_test.test_data, start_dim=1).float().to(device)\n",
    "    y_test = mnist_test.test_labels.to(device)\n",
    "    \n",
    "    r = random.randint(0, len(mnist_test) - 1)\n",
    "    X_r = X_test[r] # 1개만 뽑았으므로 1차원임 주의\n",
    "    y_r = y_test[r] \n",
    "    \n",
    "    single_pred = linear(X_r)\n",
    "    print('label : ', y_r.item())\n",
    "    print('pred : ', torch.argmax(single_pred).item())\n",
    "    \n",
    "    plt.imshow(mnist_test.test_data[r].view(28, 28), cmap='Greys')\n",
    "    plt.show()"
   ]
  },
  {
   "cell_type": "code",
   "execution_count": null,
   "id": "39ee07cf",
   "metadata": {},
   "outputs": [],
   "source": []
  }
 ],
 "metadata": {
  "kernelspec": {
   "display_name": ".venv",
   "language": "python",
   "name": ".venv"
  },
  "language_info": {
   "codemirror_mode": {
    "name": "ipython",
    "version": 3
   },
   "file_extension": ".py",
   "mimetype": "text/x-python",
   "name": "python",
   "nbconvert_exporter": "python",
   "pygments_lexer": "ipython3",
   "version": "3.7.10"
  },
  "toc": {
   "base_numbering": 1,
   "nav_menu": {},
   "number_sections": true,
   "sideBar": true,
   "skip_h1_title": false,
   "title_cell": "Table of Contents",
   "title_sidebar": "Contents",
   "toc_cell": false,
   "toc_position": {},
   "toc_section_display": true,
   "toc_window_display": false
  },
  "varInspector": {
   "cols": {
    "lenName": 16,
    "lenType": 16,
    "lenVar": 40
   },
   "kernels_config": {
    "python": {
     "delete_cmd_postfix": "",
     "delete_cmd_prefix": "del ",
     "library": "var_list.py",
     "varRefreshCmd": "print(var_dic_list())"
    },
    "r": {
     "delete_cmd_postfix": ") ",
     "delete_cmd_prefix": "rm(",
     "library": "var_list.r",
     "varRefreshCmd": "cat(var_dic_list()) "
    }
   },
   "position": {
    "height": "144.848px",
    "left": "584.429px",
    "right": "20px",
    "top": "28px",
    "width": "350px"
   },
   "types_to_exclude": [
    "module",
    "function",
    "builtin_function_or_method",
    "instance",
    "_Feature"
   ],
   "window_display": true
  }
 },
 "nbformat": 4,
 "nbformat_minor": 5
}
