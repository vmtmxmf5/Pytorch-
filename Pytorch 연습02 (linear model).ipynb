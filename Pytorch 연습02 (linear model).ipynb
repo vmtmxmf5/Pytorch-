{
 "cells": [
  {
   "cell_type": "code",
   "execution_count": 4,
   "id": "116858dd",
   "metadata": {},
   "outputs": [],
   "source": [
    "import torch\n",
    "import torch.nn as nn\n",
    "import torch.nn.functional as F\n",
    "import torch.optim as optim"
   ]
  },
  {
   "cell_type": "markdown",
   "id": "fe7eedf2",
   "metadata": {},
   "source": [
    "## 선형회귀 - simple model"
   ]
  },
  {
   "cell_type": "code",
   "execution_count": 16,
   "id": "90f425e0",
   "metadata": {},
   "outputs": [
    {
     "data": {
      "text/plain": [
       "tensor(18.6667, grad_fn=<MeanBackward0>)"
      ]
     },
     "execution_count": 16,
     "metadata": {},
     "output_type": "execute_result"
    }
   ],
   "source": [
    "X_train = torch.FloatTensor([[1], [2], [3]])\n",
    "y_train = torch.FloatTensor([2,4,6]).view(size=(-1,1))\n",
    "\n",
    "# requires_grad 업데이트 될 때마다 값이 변경되는 함수\n",
    "W = torch.zeros(1, requires_grad=True)\n",
    "b = torch.zeros(1, requires_grad=True)\n",
    "\n",
    "h = X_train * W + b\n",
    "cost = torch.mean((h - y_train) ** 2)\n",
    "cost"
   ]
  },
  {
   "cell_type": "code",
   "execution_count": null,
   "id": "868f87bb",
   "metadata": {},
   "outputs": [],
   "source": [
    "optm = optim.SGD([W, b], lr=0.01)\n",
    "\n",
    "# 미니배치마다 기울기를 0으로 초기화\n",
    "# 안하면 누적합을 해버려서 이상한 값이 됨 (RNN 계산용)\n",
    "optm.zero_grad()\n",
    "cost.backward() # 기울기 계산\n",
    "optm.step() # 파라미터 업데이트"
   ]
  },
  {
   "cell_type": "code",
   "execution_count": 17,
   "id": "f3480293",
   "metadata": {
    "scrolled": true
   },
   "outputs": [
    {
     "name": "stdout",
     "output_type": "stream",
     "text": [
      "0.18666668236255646 0.07999999821186066 18.66666603088379\n",
      "1.80009925365448 0.4544214904308319 0.029766537249088287\n",
      "1.876473307609558 0.28080499172210693 0.011366334743797779\n",
      "1.9236682653427124 0.1735200434923172 0.00434019835665822\n",
      "1.952831506729126 0.10722480714321136 0.0016572937602177262\n",
      "1.9708527326583862 0.06625857204198837 0.0006328357267193496\n",
      "1.9819889068603516 0.040943603962659836 0.0002416476490907371\n",
      "1.9888702630996704 0.025300635024905205 9.227206464856863e-05\n",
      "1.9931223392486572 0.015634294599294662 3.523503983160481e-05\n",
      "1.995750069618225 0.009661080315709114 1.3454421605274547e-05\n"
     ]
    }
   ],
   "source": [
    "optm = optim.SGD([W, b], lr=0.01)\n",
    "epochs = 2000\n",
    "\n",
    "for i in range(epochs):\n",
    "    h = X_train * W + b\n",
    "    cost = torch.mean((h - y_train)**2)\n",
    "    \n",
    "    optm.zero_grad()\n",
    "    cost.backward() # 기울기 계산\n",
    "    optm.step()\n",
    "    \n",
    "    if i % 200 == 0:\n",
    "        print(W.item(), b.item(), cost.item())"
   ]
  },
  {
   "cell_type": "code",
   "execution_count": 36,
   "id": "e412c34d",
   "metadata": {},
   "outputs": [
    {
     "data": {
      "text/plain": [
       "tensor([[0.8823, 0.9150],\n",
       "        [0.3829, 0.9593],\n",
       "        [0.3904, 0.6009],\n",
       "        [0.2566, 0.7936]])"
      ]
     },
     "execution_count": 36,
     "metadata": {},
     "output_type": "execute_result"
    }
   ],
   "source": [
    "torch.manual_seed(42)\n",
    "torch.empty(4,2).uniform_(0, 1)"
   ]
  },
  {
   "cell_type": "markdown",
   "id": "635cd85a",
   "metadata": {},
   "source": [
    "## 선형회귀 - 행렬 연산"
   ]
  },
  {
   "cell_type": "code",
   "execution_count": 74,
   "id": "0df7267a",
   "metadata": {},
   "outputs": [],
   "source": [
    "X_train = torch.FloatTensor([[73,  80,  75], \n",
    "                               [93,  88,  93], \n",
    "                               [89,  91,  80], \n",
    "                               [96,  98,  100],   \n",
    "                               [73,  66,  70]]) \n",
    "y_train = torch.FloatTensor([152, 185, 180, 196, 142])[..., None]\n",
    "\n",
    "W = torch.zeros((X_train.shape[1], 1), requires_grad=True)\n",
    "b = torch.zeros(1, requires_grad=True)\n",
    "\n",
    "optm = optim.SGD([W, b], lr=1e-5)"
   ]
  },
  {
   "cell_type": "code",
   "execution_count": 75,
   "id": "02af41b6",
   "metadata": {},
   "outputs": [
    {
     "name": "stdout",
     "output_type": "stream",
     "text": [
      "tensor([0., 0., 0., 0., 0.]) 29661.80078125\n",
      "tensor([66.7178, 80.1701, 76.1025, 86.0194, 61.1565]) 9537.6943359375\n",
      "tensor([104.5421, 125.6208, 119.2478, 134.7861,  95.8280]) 3069.5908203125\n",
      "tensor([125.9858, 151.3882, 143.7087, 162.4333, 115.4844]) 990.6702880859375\n",
      "tensor([138.1429, 165.9963, 157.5768, 178.1071, 126.6283]) 322.48187255859375\n",
      "tensor([145.0350, 174.2780, 165.4395, 186.9928, 132.9461]) 107.7170639038086\n",
      "tensor([148.9423, 178.9730, 169.8976, 192.0301, 136.5279]) 38.687496185302734\n",
      "tensor([151.1574, 181.6346, 172.4254, 194.8856, 138.5585]) 16.499042510986328\n",
      "tensor([152.4131, 183.1435, 173.8590, 196.5043, 139.7097]) 9.365655899047852\n",
      "tensor([153.1250, 183.9988, 174.6723, 197.4217, 140.3625]) 7.071113586425781\n",
      "tensor([153.5285, 184.4835, 175.1338, 197.9415, 140.7325]) 6.331847190856934\n",
      "tensor([153.7572, 184.7582, 175.3958, 198.2360, 140.9424]) 6.092532157897949\n",
      "tensor([153.8868, 184.9138, 175.5449, 198.4026, 141.0613]) 6.013816833496094\n",
      "tensor([153.9602, 185.0019, 175.6299, 198.4969, 141.1288]) 5.986784934997559\n",
      "tensor([154.0017, 185.0517, 175.6785, 198.5500, 141.1671]) 5.976325035095215\n",
      "tensor([154.0252, 185.0798, 175.7065, 198.5800, 141.1888]) 5.971208095550537\n",
      "tensor([154.0385, 185.0956, 175.7229, 198.5966, 141.2012]) 5.967835426330566\n",
      "tensor([154.0459, 185.1045, 175.7326, 198.6059, 141.2082]) 5.964968681335449\n",
      "tensor([154.0501, 185.1094, 175.7386, 198.6108, 141.2122]) 5.962291240692139\n",
      "tensor([154.0524, 185.1120, 175.7424, 198.6134, 141.2145]) 5.959664344787598\n",
      "tensor([154.0536, 185.1134, 175.7451, 198.6145, 141.2158]) 5.957088947296143\n"
     ]
    }
   ],
   "source": [
    "for i in range(21):\n",
    "    y_hat = X_train.matmul(W) + b # X @ W\n",
    "    loss = torch.mean((y_hat - y_train)**2)\n",
    "    \n",
    "    optm.zero_grad()\n",
    "    loss.backward() # 기울기 계산\n",
    "    optm.step()\n",
    "    \n",
    "    print(y_hat.squeeze().detach(), loss.item())\n",
    "    "
   ]
  },
  {
   "cell_type": "markdown",
   "id": "69a68405",
   "metadata": {},
   "source": [
    "## layer와 내장 mse - simple linear"
   ]
  },
  {
   "cell_type": "code",
   "execution_count": 82,
   "id": "a205c0ea",
   "metadata": {},
   "outputs": [
    {
     "data": {
      "text/plain": [
       "[Parameter containing:\n",
       " tensor([[0.5153]], requires_grad=True), Parameter containing:\n",
       " tensor([-0.4414], requires_grad=True)]"
      ]
     },
     "execution_count": 82,
     "metadata": {},
     "output_type": "execute_result"
    }
   ],
   "source": [
    "import torch.nn as nn\n",
    "import torch.nn.functional as F\n",
    "\n",
    "torch.manual_seed(1)\n",
    "\n",
    "X_train = torch.FloatTensor([1,2,3])[..., None]\n",
    "y_train = torch.FloatTensor([2,4,6])[..., None]\n",
    "\n",
    "model = nn.Linear(1, 1)\n",
    "\n",
    "\n",
    "# 랜덤 초기화 W, b\n",
    "# requires_grad = True\n",
    "list(model.parameters())"
   ]
  },
  {
   "cell_type": "code",
   "execution_count": 83,
   "id": "4e8e4efc",
   "metadata": {},
   "outputs": [
    {
     "name": "stdout",
     "output_type": "stream",
     "text": [
      "0.002804\n",
      "0.001733\n",
      "0.001071\n",
      "0.000662\n",
      "0.000409\n",
      "0.000253\n",
      "0.000156\n",
      "0.000096\n",
      "0.000060\n",
      "0.000037\n"
     ]
    }
   ],
   "source": [
    "sgd = torch.optim.SGD(model.parameters(), lr=1e-2)\n",
    "\n",
    "for epoch in range(1, 1001):\n",
    "    pred = model(X_train)\n",
    "    loss = F.mse_loss(pred, y_train)\n",
    "    \n",
    "    sgd.zero_grad()\n",
    "    loss.backward()\n",
    "    sgd.step()\n",
    "    \n",
    "    if epoch % 100 == 0:\n",
    "        print(f'{loss.item():.6f}')"
   ]
  },
  {
   "cell_type": "code",
   "execution_count": 87,
   "id": "9d50dd5c",
   "metadata": {
    "scrolled": true
   },
   "outputs": [
    {
     "name": "stdout",
     "output_type": "stream",
     "text": [
      "7.987856864929199\n"
     ]
    }
   ],
   "source": [
    "X_test = torch.FloatTensor([[4]])\n",
    "y_hat = model(X_test)\n",
    "print(y_hat.item())"
   ]
  },
  {
   "cell_type": "markdown",
   "id": "b185c697",
   "metadata": {},
   "source": [
    "## layer와 내장 mse - multi linear"
   ]
  },
  {
   "cell_type": "code",
   "execution_count": 103,
   "id": "8d6e42dc",
   "metadata": {},
   "outputs": [
    {
     "name": "stdout",
     "output_type": "stream",
     "text": [
      "31667.59765625\n",
      "0.2259877622127533\n",
      "0.22390982508659363\n",
      "0.22192999720573425\n",
      "0.22005856037139893\n",
      "0.21826967597007751\n",
      "0.2165713608264923\n",
      "0.21495532989501953\n",
      "0.21341314911842346\n",
      "0.2119491845369339\n",
      "0.2105575054883957\n",
      "0.20923714339733124\n",
      "0.20797093212604523\n",
      "0.20676425099372864\n",
      "0.2056158035993576\n",
      "0.20452742278575897\n",
      "0.20347893238067627\n",
      "0.2024870365858078\n",
      "0.20154185593128204\n",
      "0.2006380259990692\n"
     ]
    }
   ],
   "source": [
    "torch.manual_seed(1)\n",
    "X_train = torch.FloatTensor([[73,  80,  75], \n",
    "                               [93,  88,  93], \n",
    "                               [89,  91,  90], \n",
    "                               [96,  98,  100],   \n",
    "                               [73,  66,  70]]) \n",
    "y_train = torch.FloatTensor([152, 185, 180, 196, 142])[..., None]\n",
    "\n",
    "model = nn.Linear(X_train.shape[1], y_train.shape[1])\n",
    "\n",
    "sgd = torch.optim.SGD(model.parameters(), lr=1e-5)\n",
    "\n",
    "for epoch in range(2000):\n",
    "    pred = model(X_train)\n",
    "    cost = F.mse_loss(pred, y_train)\n",
    "    \n",
    "    sgd.zero_grad()\n",
    "    cost.backward()\n",
    "    sgd.step()\n",
    "    \n",
    "    if epoch % 100 == 0:\n",
    "        print(cost.item())"
   ]
  },
  {
   "cell_type": "code",
   "execution_count": 104,
   "id": "10cc8a37",
   "metadata": {},
   "outputs": [
    {
     "data": {
      "text/plain": [
       "tensor([[151.2305]], grad_fn=<AddmmBackward>)"
      ]
     },
     "execution_count": 104,
     "metadata": {},
     "output_type": "execute_result"
    }
   ],
   "source": [
    "X_test = torch.FloatTensor([[73, 80, 75]])\n",
    "model(X_test)"
   ]
  },
  {
   "cell_type": "markdown",
   "id": "1bf924c5",
   "metadata": {},
   "source": [
    "## 클래스 구현"
   ]
  },
  {
   "cell_type": "code",
   "execution_count": 115,
   "id": "1aa5728d",
   "metadata": {},
   "outputs": [],
   "source": [
    "torch.manual_seed(1)\n",
    "\n",
    "class myLinear(torch.nn.Module):\n",
    "    def __init__(self):\n",
    "        super().__init__()\n",
    "        self.linear = nn.Linear(3, 1)\n",
    "        \n",
    "    def forward(self, x):\n",
    "        return self.linear(x)\n",
    "\n",
    "model = myLinear()\n",
    "\n",
    "X_train = torch.FloatTensor([[73,  80,  75], \n",
    "                               [93,  88,  93], \n",
    "                               [89,  91,  90], \n",
    "                               [96,  98,  100],   \n",
    "                               [73,  66,  70]]) \n",
    "y_train = torch.FloatTensor([152, 185, 180, 196, 142])[..., None]\n",
    "\n",
    "sgd = torch.optim.SGD(model.parameters(), lr=1e-5)"
   ]
  },
  {
   "cell_type": "code",
   "execution_count": 116,
   "id": "d733f3b7",
   "metadata": {},
   "outputs": [
    {
     "name": "stdout",
     "output_type": "stream",
     "text": [
      "31667.59765625\n",
      "0.22390982508659363\n",
      "0.22005856037139893\n",
      "0.2165713608264923\n",
      "0.21341314911842346\n",
      "0.2105575054883957\n",
      "0.20797093212604523\n",
      "0.2056158035993576\n",
      "0.20347893238067627\n",
      "0.20154185593128204\n"
     ]
    }
   ],
   "source": [
    "for epoch in range(2000):\n",
    "    pred = model(X_train)\n",
    "    cost = F.mse_loss(pred, y_train)\n",
    "    \n",
    "    sgd.zero_grad()\n",
    "    cost.backward()\n",
    "    sgd.step()\n",
    "    \n",
    "    if epoch % 200 == 0:\n",
    "        print(cost.item())"
   ]
  },
  {
   "cell_type": "markdown",
   "id": "0fd93c14",
   "metadata": {},
   "source": [
    "## 배치적용"
   ]
  },
  {
   "cell_type": "code",
   "execution_count": 126,
   "id": "17c6017e",
   "metadata": {
    "scrolled": true
   },
   "outputs": [
    {
     "data": {
      "text/plain": [
       "[(tensor([73., 80., 75.]), tensor([152.])),\n",
       " (tensor([93., 88., 93.]), tensor([185.])),\n",
       " (tensor([89., 91., 90.]), tensor([180.])),\n",
       " (tensor([ 96.,  98., 100.]), tensor([196.])),\n",
       " (tensor([73., 66., 70.]), tensor([142.]))]"
      ]
     },
     "execution_count": 126,
     "metadata": {},
     "output_type": "execute_result"
    }
   ],
   "source": [
    "from torch.utils.data import DataLoader, TensorDataset\n",
    "\n",
    "X_train  =  torch.FloatTensor([[73,  80,  75], \n",
    "                               [93,  88,  93], \n",
    "                               [89,  91,  90], \n",
    "                               [96,  98,  100],   \n",
    "                               [73,  66,  70]])  \n",
    "y_train  =  torch.FloatTensor([[152],  [185],  [180],  [196],  [142]])\n",
    "\n",
    "ds = TensorDataset(X_train, y_train)\n",
    "list(ds)"
   ]
  },
  {
   "cell_type": "code",
   "execution_count": 125,
   "id": "eb4f8e47",
   "metadata": {},
   "outputs": [
    {
     "data": {
      "text/plain": [
       "[(<tf.Tensor: shape=(3,), dtype=int32, numpy=array([73, 80, 75], dtype=int32)>,\n",
       "  <tf.Tensor: shape=(1,), dtype=int32, numpy=array([152], dtype=int32)>),\n",
       " (<tf.Tensor: shape=(3,), dtype=int32, numpy=array([93, 88, 93], dtype=int32)>,\n",
       "  <tf.Tensor: shape=(1,), dtype=int32, numpy=array([185], dtype=int32)>),\n",
       " (<tf.Tensor: shape=(3,), dtype=int32, numpy=array([89, 91, 90], dtype=int32)>,\n",
       "  <tf.Tensor: shape=(1,), dtype=int32, numpy=array([180], dtype=int32)>),\n",
       " (<tf.Tensor: shape=(3,), dtype=int32, numpy=array([ 96,  98, 100], dtype=int32)>,\n",
       "  <tf.Tensor: shape=(1,), dtype=int32, numpy=array([196], dtype=int32)>),\n",
       " (<tf.Tensor: shape=(3,), dtype=int32, numpy=array([73, 66, 70], dtype=int32)>,\n",
       "  <tf.Tensor: shape=(1,), dtype=int32, numpy=array([142], dtype=int32)>)]"
      ]
     },
     "execution_count": 125,
     "metadata": {},
     "output_type": "execute_result"
    }
   ],
   "source": [
    "# import tensorflow as tf\n",
    "\n",
    "# X_train = tf.constant([[73,  80,  75], \n",
    "#                        [93,  88,  93], \n",
    "#                        [89,  91,  90], \n",
    "#                        [96,  98,  100],   \n",
    "#                        [73,  66,  70]])\n",
    "# y_train = tf.constant([[152],  [185],  [180],  [196],  [142]])\n",
    "\n",
    "# ds = tf.data.Dataset.from_tensor_slices((X_train, y_train))\n",
    "# list(ds)"
   ]
  },
  {
   "cell_type": "code",
   "execution_count": 137,
   "id": "876eefe2",
   "metadata": {
    "scrolled": true
   },
   "outputs": [
    {
     "name": "stdout",
     "output_type": "stream",
     "text": [
      "0 [tensor([[ 96.,  98., 100.],\n",
      "        [ 89.,  91.,  90.]]), tensor([[196.],\n",
      "        [180.]])]\n",
      "1 [tensor([[73., 66., 70.],\n",
      "        [93., 88., 93.]]), tensor([[142.],\n",
      "        [185.]])]\n",
      "2 [tensor([[73., 80., 75.]]), tensor([[152.]])]\n"
     ]
    }
   ],
   "source": [
    "torch.manual_seed(1)\n",
    "dataloader = DataLoader(ds, batch_size=2, shuffle=True)\n",
    "for idx, sample in enumerate(dataloader):\n",
    "    print(idx, sample)\n"
   ]
  },
  {
   "cell_type": "code",
   "execution_count": 139,
   "id": "4315c884",
   "metadata": {
    "scrolled": true
   },
   "outputs": [
    {
     "name": "stdout",
     "output_type": "stream",
     "text": [
      "Batch : 1/3, Loss : 23353.75390625\n",
      "Batch : 2/3, Loss : 8360.4375\n",
      "Batch : 3/3, Loss : 3192.3310546875\n",
      "Batch : 1/3, Loss : 0.2322549670934677\n",
      "Batch : 2/3, Loss : 1.363370656967163\n",
      "Batch : 3/3, Loss : 0.7043383121490479\n",
      "Batch : 1/3, Loss : 0.30122122168540955\n",
      "Batch : 2/3, Loss : 1.9600763320922852\n",
      "Batch : 3/3, Loss : 0.03895587846636772\n",
      "Batch : 1/3, Loss : 1.245780348777771\n",
      "Batch : 2/3, Loss : 0.3653629422187805\n",
      "Batch : 3/3, Loss : 0.07200692594051361\n",
      "Batch : 1/3, Loss : 1.0821043252944946\n",
      "Batch : 2/3, Loss : 0.12899114191532135\n",
      "Batch : 3/3, Loss : 0.7164531350135803\n",
      "Batch : 1/3, Loss : 0.7354222536087036\n",
      "Batch : 2/3, Loss : 0.448956161737442\n",
      "Batch : 3/3, Loss : 0.5318027138710022\n",
      "Batch : 1/3, Loss : 0.14216792583465576\n",
      "Batch : 2/3, Loss : 1.0472912788391113\n",
      "Batch : 3/3, Loss : 0.9741981625556946\n",
      "Batch : 1/3, Loss : 0.2624499797821045\n",
      "Batch : 2/3, Loss : 0.39898037910461426\n",
      "Batch : 3/3, Loss : 1.4127304553985596\n",
      "Batch : 1/3, Loss : 0.367527037858963\n",
      "Batch : 2/3, Loss : 0.509928822517395\n",
      "Batch : 3/3, Loss : 0.5727313756942749\n",
      "Batch : 1/3, Loss : 0.28735584020614624\n",
      "Batch : 2/3, Loss : 0.5917013883590698\n",
      "Batch : 3/3, Loss : 0.46838584542274475\n"
     ]
    }
   ],
   "source": [
    "model = nn.Linear(X_train.shape[1], y_train.shape[1])\n",
    "optm = torch.optim.SGD(model.parameters(), lr=1e-5)\n",
    "\n",
    "for epoch in range(2000):\n",
    "    for batch_idx, sample in enumerate(dataloader):\n",
    "        X_train, y_train = sample\n",
    "        \n",
    "        pred = model(X_train)\n",
    "        cost = F.mse_loss(pred, y_train)\n",
    "        \n",
    "        optm.zero_grad()\n",
    "        cost.backward()\n",
    "        optm.step()\n",
    "        \n",
    "        if epoch % 200 == 0:\n",
    "            print('Batch : {}/{}, Loss : {}'.format(batch_idx+1, len(dataloader), cost.item()))"
   ]
  },
  {
   "cell_type": "code",
   "execution_count": 140,
   "id": "0337e12b",
   "metadata": {},
   "outputs": [
    {
     "data": {
      "text/plain": [
       "tensor([[151.4232]], grad_fn=<AddmmBackward>)"
      ]
     },
     "execution_count": 140,
     "metadata": {},
     "output_type": "execute_result"
    }
   ],
   "source": [
    "X_test = torch.FloatTensor([[73,80,75]])\n",
    "model(X_test)"
   ]
  }
 ],
 "metadata": {
  "kernelspec": {
   "display_name": "Python 3",
   "language": "python",
   "name": "python3"
  },
  "language_info": {
   "codemirror_mode": {
    "name": "ipython",
    "version": 3
   },
   "file_extension": ".py",
   "mimetype": "text/x-python",
   "name": "python",
   "nbconvert_exporter": "python",
   "pygments_lexer": "ipython3",
   "version": "3.7.10"
  },
  "toc": {
   "base_numbering": 1,
   "nav_menu": {},
   "number_sections": true,
   "sideBar": true,
   "skip_h1_title": false,
   "title_cell": "Table of Contents",
   "title_sidebar": "Contents",
   "toc_cell": false,
   "toc_position": {},
   "toc_section_display": true,
   "toc_window_display": false
  },
  "varInspector": {
   "cols": {
    "lenName": 16,
    "lenType": 16,
    "lenVar": 40
   },
   "kernels_config": {
    "python": {
     "delete_cmd_postfix": "",
     "delete_cmd_prefix": "del ",
     "library": "var_list.py",
     "varRefreshCmd": "print(var_dic_list())"
    },
    "r": {
     "delete_cmd_postfix": ") ",
     "delete_cmd_prefix": "rm(",
     "library": "var_list.r",
     "varRefreshCmd": "cat(var_dic_list()) "
    }
   },
   "position": {
    "height": "144.857px",
    "left": "678.429px",
    "right": "20px",
    "top": "120px",
    "width": "350px"
   },
   "types_to_exclude": [
    "module",
    "function",
    "builtin_function_or_method",
    "instance",
    "_Feature"
   ],
   "window_display": true
  }
 },
 "nbformat": 4,
 "nbformat_minor": 5
}
