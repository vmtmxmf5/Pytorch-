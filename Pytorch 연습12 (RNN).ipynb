{
 "cells": [
  {
   "cell_type": "markdown",
   "id": "eebb804d",
   "metadata": {},
   "source": [
    "## Simple RNN"
   ]
  },
  {
   "cell_type": "code",
   "execution_count": 13,
   "id": "b43e17bf",
   "metadata": {},
   "outputs": [],
   "source": [
    "import torch\n",
    "import torch.nn as nn\n",
    "import torch.nn as F\n",
    "import numpy as np"
   ]
  },
  {
   "cell_type": "code",
   "execution_count": 59,
   "id": "3d930eba",
   "metadata": {
    "scrolled": true
   },
   "outputs": [],
   "source": [
    "sample = 'if you want this, you should go to the mart'\n",
    "char_set = list(set(sample))\n",
    "# vocab\n",
    "char_dic = {c: i for i, c in enumerate(char_set)}\n",
    "\n",
    "sample_idx = [char_dic[c] for c in sample]\n",
    "\n",
    "x_data = [sample_idx[:-1]]\n",
    "x_oh = [np.eye(len(char_dic))[x] for x in x_data]\n",
    "y_data = [sample_idx[1:]]\n",
    "\n",
    "X = torch.FloatTensor(x_oh)\n",
    "y = torch.LongTensor(y_data)"
   ]
  },
  {
   "cell_type": "code",
   "execution_count": 81,
   "id": "c71b7ec6",
   "metadata": {},
   "outputs": [],
   "source": [
    "# nn.RNN(input_dim, units, batch_first=True)\n",
    "rnn = nn.RNN(len(char_dic), 15, batch_first=True)\n",
    "criterion = nn.CrossEntropyLoss()\n",
    "optm = torch.optim.Adam(rnn.parameters(), lr=1e-2)"
   ]
  },
  {
   "cell_type": "code",
   "execution_count": 43,
   "id": "9b71da13",
   "metadata": {},
   "outputs": [],
   "source": [
    "# X가 포함하고 있는 정보 : (N, X의 timestep, input_dim)\n",
    "# rnn(X)[0].shape : (N, X의 timestep, units) # 출력 텐서\n",
    "# rnn(X)[1].shape : (N, last timestep, units) # last hidden state\n",
    "hidden_states, last_hidden_state = rnn(X)\n",
    "\n",
    "# 참고자료 : https://stackoverflow.com/questions/48302810/whats-the-difference-between-hidden-and-output-in-pytorch-lstm"
   ]
  },
  {
   "cell_type": "code",
   "execution_count": 98,
   "id": "9b8c5c93",
   "metadata": {
    "scrolled": true
   },
   "outputs": [
    {
     "data": {
      "text/plain": [
       "[('bias_ih_l0',\n",
       "  Parameter containing:\n",
       "  tensor([ 0.1206,  0.1548,  0.0532, -0.0993, -0.1528,  0.0448, -0.2576, -0.0419,\n",
       "          -0.2149,  0.2073, -0.1898,  0.0155, -0.1937, -0.1987,  0.2428],\n",
       "         requires_grad=True)),\n",
       " ('bias_hh_l0',\n",
       "  Parameter containing:\n",
       "  tensor([ 0.2065,  0.0845,  0.0586, -0.0389, -0.1854,  0.1904, -0.0725,  0.1603,\n",
       "           0.0461, -0.1152, -0.1681, -0.0425, -0.1990, -0.0569,  0.2473],\n",
       "         requires_grad=True))]"
      ]
     },
     "execution_count": 98,
     "metadata": {},
     "output_type": "execute_result"
    }
   ],
   "source": [
    "# W_x : 뉴런개수 * input_dim\n",
    "# W_h : 뉴런개수 * 뉴런개수\n",
    "# b_x : 뉴런개수 \n",
    "# b_h : 뉴런개수 (위와 값이 다름)\n",
    "list(rnn.named_parameters())[2:4]"
   ]
  },
  {
   "cell_type": "code",
   "execution_count": 53,
   "id": "02bebe63",
   "metadata": {},
   "outputs": [
    {
     "name": "stdout",
     "output_type": "stream",
     "text": [
      "f you thnt  his, you thouldhgo     he maut\n",
      "f you thnt  his, you thouldhgo     he maut\n",
      "f you thnt  his, you thouldhgo    the maut\n",
      "f you tant  his, you thouldhgo to the maut\n",
      "f you tant  his, you thould go to the mart\n",
      "f you tant  his, you thould go to the mort\n",
      "f you tant this, you thould go to the mart\n",
      "f you tant this, you thould go to the mart\n",
      "f you tant this, you thould go to the mart\n",
      "f you tant this, you thould go to the mart\n"
     ]
    }
   ],
   "source": [
    "for i in range(50):\n",
    "    optm.zero_grad()\n",
    "    output, last_hidden_state = rnn(X)\n",
    "    # 배치 제거\n",
    "    loss = criterion(output.view(-1, len(char_dic)), y.view(-1))\n",
    "    loss.backward()\n",
    "    optm.step()\n",
    "    \n",
    "    # 가장 높은 feature의 idx\n",
    "    y_hat = output.data.numpy().argmax(axis=2)\n",
    "    # y_hat이 2차원이니까 squeeze로 쓸모 없는 [] 삭제해줘야함\n",
    "    y_hat_str = ''.join([char_set[c] for c in np.squeeze(y_hat)])\n",
    "    \n",
    "    if i % 5 == 0:\n",
    "        print(y_hat_str)\n",
    "    "
   ]
  },
  {
   "cell_type": "code",
   "execution_count": 109,
   "id": "e56c3e2d",
   "metadata": {},
   "outputs": [
    {
     "ename": "IndexError",
     "evalue": "list index out of range",
     "output_type": "error",
     "traceback": [
      "\u001b[1;31m---------------------------------------------------------------------------\u001b[0m",
      "\u001b[1;31mIndexError\u001b[0m                                Traceback (most recent call last)",
      "\u001b[1;32m<ipython-input-109-368783ca62b6>\u001b[0m in \u001b[0;36m<module>\u001b[1;34m\u001b[0m\n\u001b[0;32m      4\u001b[0m \u001b[0mlast_hidden_state\u001b[0m\u001b[1;33m,\u001b[0m \u001b[0mlast_cell_state\u001b[0m \u001b[1;33m=\u001b[0m \u001b[0mlast_states\u001b[0m\u001b[1;33m\u001b[0m\u001b[1;33m\u001b[0m\u001b[0m\n\u001b[0;32m      5\u001b[0m \u001b[1;33m\u001b[0m\u001b[0m\n\u001b[1;32m----> 6\u001b[1;33m \u001b[0mlist\u001b[0m\u001b[1;33m(\u001b[0m\u001b[0mlstm\u001b[0m\u001b[1;33m.\u001b[0m\u001b[0mparameters\u001b[0m\u001b[1;33m(\u001b[0m\u001b[1;33m)\u001b[0m\u001b[1;33m)\u001b[0m\u001b[1;33m[\u001b[0m\u001b[1;36m4\u001b[0m\u001b[1;33m]\u001b[0m\u001b[1;33m.\u001b[0m\u001b[0mshape\u001b[0m\u001b[1;33m\u001b[0m\u001b[1;33m\u001b[0m\u001b[0m\n\u001b[0m",
      "\u001b[1;31mIndexError\u001b[0m: list index out of range"
     ]
    }
   ],
   "source": [
    "# LSTM은 어떤 식으로 output이 구성되어 있을까? \n",
    "\n",
    "input_dim, units = len(char_dic), 15\n",
    "lstm = nn.LSTM(input_dim, units, batch_first=True)\n",
    "\n",
    "hidden_states, last_states = lstm(X)\n",
    "last_hidden_state, last_cell_state = last_states"
   ]
  },
  {
   "cell_type": "code",
   "execution_count": null,
   "id": "7e658b46",
   "metadata": {},
   "outputs": [],
   "source": []
  }
 ],
 "metadata": {
  "kernelspec": {
   "display_name": "Python 3",
   "language": "python",
   "name": "python3"
  },
  "language_info": {
   "codemirror_mode": {
    "name": "ipython",
    "version": 3
   },
   "file_extension": ".py",
   "mimetype": "text/x-python",
   "name": "python",
   "nbconvert_exporter": "python",
   "pygments_lexer": "ipython3",
   "version": "3.9.4"
  },
  "toc": {
   "base_numbering": 1,
   "nav_menu": {},
   "number_sections": true,
   "sideBar": true,
   "skip_h1_title": false,
   "title_cell": "Table of Contents",
   "title_sidebar": "Contents",
   "toc_cell": false,
   "toc_position": {},
   "toc_section_display": true,
   "toc_window_display": false
  },
  "varInspector": {
   "cols": {
    "lenName": 16,
    "lenType": 16,
    "lenVar": 40
   },
   "kernels_config": {
    "python": {
     "delete_cmd_postfix": "",
     "delete_cmd_prefix": "del ",
     "library": "var_list.py",
     "varRefreshCmd": "print(var_dic_list())"
    },
    "r": {
     "delete_cmd_postfix": ") ",
     "delete_cmd_prefix": "rm(",
     "library": "var_list.r",
     "varRefreshCmd": "cat(var_dic_list()) "
    }
   },
   "types_to_exclude": [
    "module",
    "function",
    "builtin_function_or_method",
    "instance",
    "_Feature"
   ],
   "window_display": false
  }
 },
 "nbformat": 4,
 "nbformat_minor": 5
}
