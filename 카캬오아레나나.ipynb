{
 "cells": [
  {
   "cell_type": "markdown",
   "id": "9cdb1fb6",
   "metadata": {},
   "source": [
    "## 데이터 로드"
   ]
  },
  {
   "cell_type": "code",
   "execution_count": null,
   "id": "2a0de33f",
   "metadata": {},
   "outputs": [],
   "source": [
    "def get_column_data(path_list, div, col):\n",
    "    col_data = []\n",
    "    for path in path_list:\n",
    "        h = h5py.File(path, 'r')\n",
    "        col_data.append(h[div][col][:])\n",
    "        h.close()\n",
    "    return np.concatenate(col_data)\n",
    "\n",
    "def get_dataframe(path_list, div):\n",
    "    pids = get_column_data(path_list, div, col='pid')\n",
    "    products = get_column_data(path_list, div, col='product')\n",
    "    bradns = get_column_data(path_list, div, col='brand')\n",
    "    makers = get_column_data(path_list, div, col='maker')\n",
    "    \n",
    "    models = get_column_data(path_list, div, col='model')\n",
    "    prices = get_column_data(path_list, div, col='price')\n",
    "    updttms = get_column_data(path_list, div, col='updttm')\n",
    "    bcates = get_column_data(path_list, div, col='bcateid')\n",
    "    mcates = get_column_data(path_list, div, col='mcateid')\n",
    "    scates = get_column_data(path_list, div, col='scateid')\n",
    "    dcates = get_column_data(path_list, div, col='dcateid')\n",
    "    \n",
    "    df = pd.DataFrame({'pid':pids, 'product':products, 'brand':brands,\n",
    "                      'maker':makers, 'model':models, 'price':prices,\n",
    "                      'updttm':updttms, 'bcateid':bcates, 'mcateid':mcates,\n",
    "                      'scateid':scates, 'dcateid':dcates})\n",
    "    \n",
    "    df['pid'] = df['pid'].map(lambda x: x.decode('utf-8'))\n",
    "    df['product'] = df['product'].map(lambda x: x.decode('utf-8'))\n",
    "    df['brand'] = df['brand'].map(lambda x: x.decode('utf-8'))\n",
    "    df['maker'] = df['maker'].map(lambda x: x.decode('utf-8'))\n",
    "    df['model'] = df['model'].map(lambda x: x.decode('utf-8'))\n",
    "    df['updttm'] = df['updttm'].map(lambda x: x.decode('utf-8'))\n",
    "    return df"
   ]
  },
  {
   "cell_type": "code",
   "execution_count": null,
   "id": "18f5ab46",
   "metadata": {},
   "outputs": [],
   "source": [
    "train_df = get_dataframe(train_path_list, 'train')\n",
    "dev_df = get_dataframe(dev_path_list, 'dev')\n",
    "test_df = get_dataframe(test_path_list, 'test')\n",
    "\n",
    "train_df.shape, dev_df.shape, test_df.shape"
   ]
  },
  {
   "cell_type": "markdown",
   "id": "14199dd0",
   "metadata": {},
   "source": [
    "## 카테고리 매핑"
   ]
  },
  {
   "cell_type": "code",
   "execution_count": null,
   "id": "fbf443d4",
   "metadata": {},
   "outputs": [],
   "source": [
    "import json\n",
    "cate_json = json.load(open(os.path.join(RAW_DATA_DIR, 'cate1.json')))\n",
    "\n",
    "bid2nm = dict([(cid, name) for cid, name in cate_json['b'].items()])\n",
    "mid2nm = dict([(cid, name) for cid, name in cate_json['m'].items()])\n",
    "sid2nm = dict([(cid, name) for cid, name in cate_json['s'].items()])\n",
    "did2nm = dict([(cid, name) for cid, name in cate_json['d'].items()])\n",
    "\n",
    "# 데이터 프레임 안에 데이터 == 딕셔너리 키 ==> Value로 변환\n",
    "train_df['bcatenm'] = train_df['bcateid'].map(bid2nm)\n",
    "train_df['mcatenm'] = train_df['mcateid'].map(mid2nm)\n",
    "train_df['scatenm'] = train_df['scateid'].map(sid2nm)\n",
    "train_df['dcatenm'] = train_df['dcateid'].map(did2nm)"
   ]
  },
  {
   "cell_type": "code",
   "execution_count": 3,
   "id": "d9e256e6",
   "metadata": {},
   "outputs": [
    {
     "name": "stdout",
     "output_type": "stream",
     "text": [
      "dict_items([('query', 5), ('key', 'vo'), ('value', True)])\n",
      "[('query', 5), ('key', 'vo'), ('value', True)]\n"
     ]
    },
    {
     "data": {
      "text/plain": [
       "{'query': 5, 'key': 'vo', 'value': True}"
      ]
     },
     "execution_count": 3,
     "metadata": {},
     "output_type": "execute_result"
    }
   ],
   "source": [
    "# dictionary의 안에 dictionary key value 받아오기\n",
    "temp = {'ex':{'query':5, 'key':'vo', 'value':True}}\n",
    "print(temp['ex'].items())\n",
    "print([(a, b) for a, b in temp['ex'].items()])\n",
    "dict([(a, b) for a, b in temp['ex'].items()])"
   ]
  },
  {
   "cell_type": "code",
   "execution_count": 9,
   "id": "7b8f497d",
   "metadata": {},
   "outputs": [
    {
     "data": {
      "text/plain": [
       "0    NaN\n",
       "1     vo\n",
       "2      5\n",
       "Name: 0, dtype: object"
      ]
     },
     "execution_count": 9,
     "metadata": {},
     "output_type": "execute_result"
    }
   ],
   "source": [
    "# 데이터의 특정 값을 dict 안에 있는 Value로 변환\n",
    "import pandas as pd\n",
    "tmp = dict([(a, b) for a, b in temp['ex'].items()])\n",
    "pd.DataFrame([5, 'key', 'query'])[0].map(tmp)"
   ]
  },
  {
   "cell_type": "markdown",
   "id": "814e7fde",
   "metadata": {},
   "source": [
    "## Drop할 Col 선별\n",
    "\n",
    "76p"
   ]
  },
  {
   "cell_type": "code",
   "execution_count": null,
   "id": "864fe2fe",
   "metadata": {},
   "outputs": [],
   "source": [
    "def get_vc_df(df, col):\n",
    "    vc_df = df[col].value_counts().reset_index()\n",
    "    vc_df.columns = [col, 'count'] # value_counts 를 df로 변환한 뒤, 이름 설정\n",
    "    vc_df['percentage'] = (vc_df['count'] / vc_df['count'].sum())*100\n",
    "    return vc_df\n",
    "\n",
    "vc_df = get_vc_df(train_df, 'brand') # maker는 'maker' 만 추가하면 됨!\n",
    "vc_df.head(10)\n",
    "# brand, maker, model은 null 값이 많다. 즉, 예측 하는 데 정보가 담겨 있지 않은 경우가 많다\n",
    "# 상품명에 이미 포함된 정보이다"
   ]
  }
 ],
 "metadata": {
  "kernelspec": {
   "display_name": "Python 3",
   "language": "python",
   "name": "python3"
  },
  "language_info": {
   "codemirror_mode": {
    "name": "ipython",
    "version": 3
   },
   "file_extension": ".py",
   "mimetype": "text/x-python",
   "name": "python",
   "nbconvert_exporter": "python",
   "pygments_lexer": "ipython3",
   "version": "3.9.4"
  },
  "toc": {
   "base_numbering": 1,
   "nav_menu": {},
   "number_sections": true,
   "sideBar": true,
   "skip_h1_title": false,
   "title_cell": "Table of Contents",
   "title_sidebar": "Contents",
   "toc_cell": false,
   "toc_position": {},
   "toc_section_display": true,
   "toc_window_display": false
  },
  "varInspector": {
   "cols": {
    "lenName": 16,
    "lenType": 16,
    "lenVar": 40
   },
   "kernels_config": {
    "python": {
     "delete_cmd_postfix": "",
     "delete_cmd_prefix": "del ",
     "library": "var_list.py",
     "varRefreshCmd": "print(var_dic_list())"
    },
    "r": {
     "delete_cmd_postfix": ") ",
     "delete_cmd_prefix": "rm(",
     "library": "var_list.r",
     "varRefreshCmd": "cat(var_dic_list()) "
    }
   },
   "types_to_exclude": [
    "module",
    "function",
    "builtin_function_or_method",
    "instance",
    "_Feature"
   ],
   "window_display": false
  }
 },
 "nbformat": 4,
 "nbformat_minor": 5
}
