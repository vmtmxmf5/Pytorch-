{
 "cells": [
  {
   "cell_type": "markdown",
   "id": "06f056c0",
   "metadata": {},
   "source": [
    "    MSE : 두 **점** 사이의 **거리**  \n",
    "    CEE : 데이터 **확률분포** P와, P를 이용해 계산한 **확률분포** Q 간의 **차이**  \n",
    "      Q의 확률이 1에 가까울 수록 패널티를 적게 주고,  \n",
    "      0에 가까울 수록 패널티를 급격하게 준다  \n",
    "\n",
    "**CEE 최소화 -> KLD 최소화 -> 추정한 분포 Q와 데이터 분포 P의 차이 최소화**\n"
   ]
  },
  {
   "cell_type": "code",
   "execution_count": 32,
   "id": "67fd0df3",
   "metadata": {},
   "outputs": [
    {
     "data": {
      "text/plain": [
       "array([-0.04856697, -0.14111949,  1.46028959,  0.91165119,  0.        ,\n",
       "        0.88501305,  0.38285408,  0.5519683 ,  1.60215103,  0.        ])"
      ]
     },
     "execution_count": 32,
     "metadata": {},
     "output_type": "execute_result"
    }
   ],
   "source": [
    "normal * np.log(poisson + 1)"
   ]
  },
  {
   "cell_type": "code",
   "execution_count": 35,
   "id": "1508eec8",
   "metadata": {},
   "outputs": [
    {
     "data": {
      "text/plain": [
       "<AxesSubplot:ylabel='Density'>"
      ]
     },
     "execution_count": 35,
     "metadata": {},
     "output_type": "execute_result"
    },
    {
     "data": {
      "image/png": "[encoded data removed]",
      "text/plain": [
       "<Figure size 432x288 with 1 Axes>"
      ]
     },
     "metadata": {
      "needs_background": "light"
     },
     "output_type": "display_data"
    }
   ],
   "source": [
    "import numpy as np\n",
    "import seaborn as sns\n",
    "\n",
    "normal = np.random.normal(1, 1, 10)\n",
    "poisson = np.random.poisson(1, 10)\n",
    "\n",
    "sns.kdeplot(normal)\n",
    "sns.kdeplot(poisson)\n",
    "sns.kdeplot(normal * np.log(poisson + 1))"
   ]
  },
  {
   "cell_type": "markdown",
   "id": "2b18a9f1",
   "metadata": {},
   "source": [
    "## 국민청원 실습"
   ]
  },
  {
   "cell_type": "code",
   "execution_count": 4,
   "id": "865c1959",
   "metadata": {},
   "outputs": [],
   "source": [
    "# 크롤링\n",
    "import pandas as pd\n",
    "import numpy as np\n",
    "import requests\n",
    "from bs4 import BeautifulSoup\n",
    "import time\n",
    "\n",
    "result = pd.DataFrame()\n",
    "for i in range(584274, 595226):\n",
    "    url = 'https://www1.president.go.kr/petitions/' + str(i)\n",
    "    response = requests.get(url).content\n",
    "    soup = BeautifulSoup(response, 'html.parser')\n",
    "    title = soup.find('h3', class_='petitionsView_title')\n",
    "    count = soup.find('span', class_='counter')\n",
    "    \n",
    "    for content in soup.select('div.petitionsView_write > div.View_write'):\n",
    "        a = []\n",
    "        for tag in soup.select('ul.petitionsView_info_list > li'):\n",
    "            a.append(tag.contents)\n",
    "            \n",
    "        if len(a) != 0:\n",
    "            df1 = pd.DataFrame({'start':[a[1]],\n",
    "                               'end':[a[2]],\n",
    "                               'category':[a[0]],\n",
    "                               'count':[count.text],\n",
    "                               'title':[title.text],\n",
    "                               'content':[content.text.strip()[0:13000]]})\n",
    "            result = pd.concat([result, df1])\n",
    "            result.index = np.arange(len(result))\n",
    "            \n",
    "        if i % 60 == 0:\n",
    "            print('sleep 90s. Count:' + str(i) + ', Local Time:', time.strftime('%Y-%m-%d', time.localtime(time.time())),\n",
    "                 time.strftime('%X', time.localtime(time.time())), ', Data Length:', str(len(result)))\n",
    "            time.sleep(90)"
   ]
  },
  {
   "cell_type": "code",
   "execution_count": 9,
   "id": "9e2cd097",
   "metadata": {},
   "outputs": [],
   "source": [
    "import pandas as pd\n",
    "import numpy as np\n",
    "import requests\n",
    "from bs4 import BeautifulSoup\n",
    "import time\n",
    "\n",
    "df = pd.read_csv('./프로젝트 데이터 모음/petition.csv')[:7756]"
   ]
  },
  {
   "cell_type": "code",
   "execution_count": 10,
   "id": "e7e5d171",
   "metadata": {},
   "outputs": [],
   "source": [
    "import re\n",
    "\n",
    "def remove_sp_wh(text):\n",
    "    p = re.compile(r'([\\t\\r\\n\\f\\v])|([^ ㄱ-ㅣ가-힣0-9]+)')\n",
    "    text = p.sub(' ', str(text))\n",
    "    return text\n",
    "\n",
    "df.title = df.title.apply(remove_sp_wh)\n",
    "df.content = df.content.apply(remove_sp_wh)"
   ]
  },
  {
   "cell_type": "code",
   "execution_count": 11,
   "id": "ce4989b2",
   "metadata": {},
   "outputs": [],
   "source": [
    "from konlpy.tag import Okt\n",
    "okt = Okt()\n",
    "\n",
    "df['title_token'] = df.title.apply(okt.morphs)\n",
    "df['content_token'] = df.content.apply(okt.nouns)\n",
    "\n",
    "df['token_final'] = df.title_token + df.content_token\n",
    "df['count'] = df['votes'].replace({',' : ''}, regex=True).apply(lambda x : int(x))\n",
    "df['label'] = df['count'].apply(lambda x: 'Yes' if x>=1000 else 'No')"
   ]
  },
  {
   "cell_type": "code",
   "execution_count": 12,
   "id": "74920c7d",
   "metadata": {},
   "outputs": [],
   "source": [
    "df_drop = df[['token_final', 'label']].copy()"
   ]
  },
  {
   "cell_type": "markdown",
   "id": "3b88d52c",
   "metadata": {},
   "source": [
    "### 임베딩 벡터"
   ]
  },
  {
   "cell_type": "code",
   "execution_count": 5,
   "id": "37674e5c",
   "metadata": {
    "scrolled": false
   },
   "outputs": [
    {
     "name": "stderr",
     "output_type": "stream",
     "text": [
      "/home/jaehoon/anaconda3/envs/torch_env/lib/python3.7/site-packages/gensim/similarities/__init__.py:15: UserWarning: The gensim.similarities.levenshtein submodule is disabled, because the optional Levenshtein package <https://pypi.org/project/python-Levenshtein/> is unavailable. Install Levenhstein (e.g. `pip install python-Levenshtein`) to suppress this warning.\n",
      "  warnings.warn(msg)\n"
     ]
    }
   ],
   "source": [
    "from gensim.models import Word2Vec, KeyedVectors\n",
    "\n",
    "embedding_model = Word2Vec(df_drop['token_final'],\n",
    "                          sg=1,\n",
    "                          vector_size=100,\n",
    "                          window=2,\n",
    "                          min_count=1)\n",
    "\n",
    "model_result = embedding_model.wv.most_similar('음주')\n",
    "print(model_result)"
   ]
  },
  {
   "cell_type": "code",
   "execution_count": 26,
   "id": "a19eb138",
   "metadata": {
    "scrolled": true
   },
   "outputs": [
    {
     "data": {
      "text/plain": [
       "((20720, 100),)"
      ]
     },
     "execution_count": 26,
     "metadata": {},
     "output_type": "execute_result"
    }
   ],
   "source": [
    "embedding_model.syn1neg.shape"
   ]
  },
  {
   "cell_type": "code",
   "execution_count": 6,
   "id": "22f193b8",
   "metadata": {},
   "outputs": [],
   "source": [
    "embedding_model.wv.save_word2vec_format('petition_token_w2v')\n",
    "\n",
    "loaded_model = KeyedVectors.load_word2vec_format('petition_token_w2v')"
   ]
  },
  {
   "cell_type": "markdown",
   "id": "a0a101c5",
   "metadata": {},
   "source": [
    "### 데이터 분할 & Field"
   ]
  },
  {
   "cell_type": "code",
   "execution_count": 13,
   "id": "0c909c28",
   "metadata": {},
   "outputs": [],
   "source": [
    "from numpy.random import RandomState\n",
    "import torchtext\n",
    "from torchtext.data import Field\n",
    "\n",
    "rng = RandomState()\n",
    "tr = df_drop.sample(frac=.8, random_state=rng)\n",
    "val = df_drop.loc[~df_drop.index.isin(tr.index)]\n",
    "\n",
    "# ['토큰1', '토큰2', ...] 형태로 데이터를 return 해줘야 함\n",
    "# [[토큰1, 토큰2], [토큰3, 토큰4, 토큰5]] 괄호 하나 제거해줘야 함\n",
    "def tokenizer(text):\n",
    "    text = re.sub('[\\[\\]\\']', '', str(text))\n",
    "    text = text.split(', ')\n",
    "    return text\n",
    "\n",
    "TEXT = Field(tokenize=tokenizer)\n",
    "LABEL = Field(sequential=False)"
   ]
  },
  {
   "cell_type": "code",
   "execution_count": null,
   "id": "25b5e1cb",
   "metadata": {},
   "outputs": [],
   "source": []
  }
 ],
 "metadata": {
  "kernelspec": {
   "display_name": ".venv",
   "language": "python",
   "name": ".venv"
  },
  "language_info": {
   "codemirror_mode": {
    "name": "ipython",
    "version": 3
   },
   "file_extension": ".py",
   "mimetype": "text/x-python",
   "name": "python",
   "nbconvert_exporter": "python",
   "pygments_lexer": "ipython3",
   "version": "3.7.10"
  },
  "toc": {
   "base_numbering": 1,
   "nav_menu": {},
   "number_sections": true,
   "sideBar": true,
   "skip_h1_title": false,
   "title_cell": "Table of Contents",
   "title_sidebar": "Contents",
   "toc_cell": false,
   "toc_position": {},
   "toc_section_display": true,
   "toc_window_display": false
  },
  "varInspector": {
   "cols": {
    "lenName": 16,
    "lenType": 16,
    "lenVar": 40
   },
   "kernels_config": {
    "python": {
     "delete_cmd_postfix": "",
     "delete_cmd_prefix": "del ",
     "library": "var_list.py",
     "varRefreshCmd": "print(var_dic_list())"
    },
    "r": {
     "delete_cmd_postfix": ") ",
     "delete_cmd_prefix": "rm(",
     "library": "var_list.r",
     "varRefreshCmd": "cat(var_dic_list()) "
    }
   },
   "position": {
    "height": "144.857px",
    "left": "605.429px",
    "right": "20px",
    "top": "18px",
    "width": "350px"
   },
   "types_to_exclude": [
    "module",
    "function",
    "builtin_function_or_method",
    "instance",
    "_Feature"
   ],
   "window_display": true
  }
 },
 "nbformat": 4,
 "nbformat_minor": 5
}
